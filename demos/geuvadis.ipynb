{
 "metadata": {
  "name": "geuvadis",
  "signature": "sha256:1924f694a9beebc1082c04bd2af2694626b89da191d88a8bf7c3f8faf2c3c1c0"
 },
 "nbformat": 3,
 "nbformat_minor": 0,
 "worksheets": [
  {
   "cells": [
    {
     "cell_type": "heading",
     "level": 1,
     "metadata": {},
     "source": [
      "Transcript-based eQTL mapping in cis of gene APSADPA"
     ]
    },
    {
     "cell_type": "markdown",
     "metadata": {},
     "source": [
      "In this demo we show how to use LIMIX to perform multi-trait GWAS.\n",
      "LIMIX can be used to test for association between a marker and a set of phenotypes (any effect test) as well as to test for specific designs (common and specific effects).\n",
      "Multi-locus multi-trait models are also discussed.\n",
      "As example, we consider transcript-based eQTL mapping in cis for gene XXX."
     ]
    },
    {
     "cell_type": "heading",
     "level": 3,
     "metadata": {},
     "source": [
      "The Genetic Model"
     ]
    },
    {
     "cell_type": "markdown",
     "metadata": {},
     "source": [
      "Indicating with $N$ and $P$ respectively the number of samples and the number of traits,\n",
      "the genetic model considered by LIMIX for multivariate GWAS consists of\n",
      "a fixed effect for the model intercept,\n",
      "a fixed effect for the SNP being tested,\n",
      "a random effect for the polygenic effect\n",
      "and a noisy random effect term.\n",
      "Each fixed effect is characterized by a sample and a trait design matrix and the weights,\n",
      "while each random effect is characterized by a sample and a trait covariance matrix.\n",
      "\n",
      "The model can be written\n",
      "\\begin{equation}\n",
      "\\mathbf{Y}=\\mathbf{FWA}^\\text{(cov)}+\\mathbf{XBA}_1^\\text{(snp)}+\\mathbf{G}+\\boldsymbol{\\Psi},\\;\\;\\;\\;\\;\n",
      "\\mathbf{G}\\sim\\text{MVN}(\\mathbf{0},\\mathbf{K},\\mathbf{C}_g),\\;\n",
      "\\boldsymbol{\\Psi}\\sim\\text{MVN}(\\mathbf{0},\\mathbf{I}_N,\\mathbf{C}_n),\n",
      "\\end{equation}\n",
      "where\n",
      "\\begin{eqnarray}\n",
      "\\mathbf{Y}   &=& \\text{matrix-variate phenotype} \\in \\mathcal{R}^{N,P} \\\\\n",
      "\\mathbf{F}   &=& \\text{sample design for covariates} \\in \\mathcal{R}^{N,K} \\\\\n",
      "\\mathbf{W}   &=& \\text{effect size matrix for covariates} \\in \\mathcal{R}^{K,L} \\\\\n",
      "\\mathbf{A}^\\text{(cov)} &=& \\text{trait design for the fixed effect} \\in \\mathcal{R}^{L,P} \\\\\n",
      "\\mathbf{X}   &=& \\text{genetic profile of the SNP} \\in \\mathcal{R}^{N,1} \\\\\n",
      "\\mathbf{B}   &=& \\text{effect sizes of the SNP} \\in \\mathcal{R}^{1,M} \\\\\n",
      "\\mathbf{A}_1^\\text{(snp)} &=& \\text{trait design for the fixed effect} \\in \\mathcal{R}^{M,P} \\\\\n",
      "\\mathbf{K}   &=& \\text{sample relatedeness matrix} \\in \\mathcal{R}^{N,N} \\\\\n",
      "\\mathbf{C}_g &=& \\text{genetic trait covariance matrix} \\in \\mathcal{R}^{P,P} \\\\\n",
      "\\mathbf{I}_N &=& \\text{sample noise matrix} \\in \\mathcal{R}^{N,N} \\\\\n",
      "\\mathbf{C}_n &=& \\text{noise trait covariance matrix} \\in \\mathcal{R}^{P,P}\n",
      "\\end{eqnarray}\n",
      "\n",
      "In the following, we consider only a trait-specific intercept as covariate,\n",
      "which is caracterized by $\\mathbf{F}=\\mathbf{1}_{N,1}$, $\\mathbf{A}=\\mathbf{I}_{P}$ and $\\mathbf{W} \\in \\mathcal{R}^{1,P}$.\n",
      "\n",
      "LIMIX tests for $\\mathbf{A}_1^\\text{(snp)}\\neq\\mathbf{A}_0^\\text{(snp)}$.\n",
      "As shown extensively below, specifying opportunately $\\mathbf{A}_1^\\text{(snp)}$ and $\\mathbf{A}_0^\\text{(snp)}$\n",
      "different genetic hypothesis can be tested.\n",
      "\n",
      "As shown below, LIMIX learns the trait covariance matrices on the mixed model without the fixed effect from the SNP."
     ]
    },
    {
     "cell_type": "heading",
     "level": 3,
     "metadata": {},
     "source": [
      "Setting up"
     ]
    },
    {
     "cell_type": "code",
     "collapsed": false,
     "input": [
      "%matplotlib inline"
     ],
     "language": "python",
     "metadata": {},
     "outputs": [],
     "prompt_number": 9
    },
    {
     "cell_type": "code",
     "collapsed": false,
     "input": [
      "import scipy as SP\n",
      "import pylab as PL\n",
      "from matplotlib import cm\n",
      "import h5py"
     ],
     "language": "python",
     "metadata": {},
     "outputs": [],
     "prompt_number": 10
    },
    {
     "cell_type": "code",
     "collapsed": false,
     "input": [
      "# import limix\n",
      "import sys\n",
      "sys.path.append('./../build/release.darwin/interfaces/python')\n",
      "import limix\n",
      "import limix.modules.varianceDecomposition as VAR"
     ],
     "language": "python",
     "metadata": {},
     "outputs": [],
     "prompt_number": 1
    },
    {
     "cell_type": "code",
     "collapsed": false,
     "input": [
      "#import data\n",
      "fname = './data/geuv/geuv_demo.hdf5'\n",
      "f = h5py.File(fname,'r')\n",
      "Y = f['pheno'][:]\n",
      "X = f['geno'][:]\n",
      "K = f['Kpanama'][:]\n",
      "pos = f['pos'][:]\n",
      "geneInfo = f['chrom_start_end_strand'][:]\n",
      "transID = f['transID'][:]\n",
      "f.close()\n",
      "#dimensions\n",
      "N,P = Y.shape"
     ],
     "language": "python",
     "metadata": {},
     "outputs": [],
     "prompt_number": 32
    },
    {
     "cell_type": "heading",
     "level": 3,
     "metadata": {},
     "source": [
      "Trait Covariance Matrices"
     ]
    },
    {
     "cell_type": "markdown",
     "metadata": {},
     "source": [
      "To learn the trait covariance matrices, LIMIX considers the model without the fixed effect from the SNP\n",
      "\\begin{equation}\n",
      "\\mathbf{Y}=\\mathbf{1}_{N,1}\\mathbf{W}+\\mathbf{G}+\\boldsymbol{\\Psi},\\;\\;\\;\\;\\;\n",
      "\\mathbf{G}\\sim\\text{MVN}(\\mathbf{0},\\mathbf{K},\\mathbf{C}_g(\\boldsymbol{\\theta})),\\;\n",
      "\\boldsymbol{\\Psi}\\sim\\text{MVN}(\\mathbf{0},\\mathbf{I}_N,\\mathbf{C}_n(\\boldsymbol{\\theta})),\n",
      "\\end{equation}\n",
      "where $\\mathbf{F}=\\mathbf{1}_{N,1}$, $\\mathbf{A}=\\mathbf{I}_{P}$ and $\\boldsymbol{\\theta}$ is the vector of covariance parameters.\n",
      "\n",
      "As showed in the following, this is done by using the variance decomposition module in LIMIX.\n",
      "\n",
      "While in this example we consider just 2 terms and\n",
      "general semi-definite positive covariance matrices for the trait covariances,\n",
      "the LIMIX variance decomposition module allows any number of terms and different parametrizations (see varDecompYeast.XXX)."
     ]
    },
    {
     "cell_type": "code",
     "collapsed": false,
     "input": [
      "# build and optimize null model\n",
      "vc = VAR.CVarianceDecomposition(Y)\n",
      "vc.addFixedEffect()\n",
      "vc.addRandomEffect(K=K)\n",
      "vc.addRandomEffect(is_noise=True)\n",
      "vc.findLocalOptimum(fast=True,init_method='diagonal')\n",
      "# retrieve geno and noise covariance matrix\n",
      "Cg = vc.getEstTraitCovar(0)\n",
      "Cn = vc.getEstTraitCovar(1)"
     ],
     "language": "python",
     "metadata": {},
     "outputs": [
      {
       "output_type": "stream",
       "stream": "stdout",
       "text": [
        "Local minimum found at iteration 0\n"
       ]
      }
     ],
     "prompt_number": 13
    },
    {
     "cell_type": "code",
     "collapsed": false,
     "input": [
      "# plot trait covariance matrices\n",
      "plt = PL.subplot(1,2,1)\n",
      "PL.title('Geno trait covariance')\n",
      "PL.imshow(Cg,vmin=0,vmax=1,interpolation='none',cmap=cm.afmhot)\n",
      "PL.colorbar(ticks=[0,0.5,1],orientation='horizontal')\n",
      "plt.set_xticks([])\n",
      "plt.set_yticks([])\n",
      "plt = PL.subplot(1,2,2)\n",
      "PL.title('Noise trait covariance')\n",
      "PL.imshow(Cn,vmin=0,vmax=1,interpolation='none',cmap=cm.afmhot)\n",
      "PL.colorbar(ticks=[0,0.5,1],orientation='horizontal')\n",
      "#cbar = fig.colorbar(cax, ticks=[-1, 0, 1], orientation='horizontal')\n",
      "#cbar.ax.set_xticklabels(['Low', 'Medium', 'High'])# horizontal colorbar\n",
      "plt.set_xticks([])\n",
      "plt.set_yticks([])"
     ],
     "language": "python",
     "metadata": {},
     "outputs": [
      {
       "metadata": {},
       "output_type": "pyout",
       "prompt_number": 8,
       "text": [
        "[]"
       ]
      },
      {
       "metadata": {},
       "output_type": "display_data",
       "png": "[encoded data removed]",
       "text": [
        "<matplotlib.figure.Figure at 0x10c54e690>"
       ]
      }
     ],
     "prompt_number": 8
    },
    {
     "cell_type": "heading",
     "level": 3,
     "metadata": {},
     "source": [
      "Any Effect Test"
     ]
    },
    {
     "cell_type": "markdown",
     "metadata": {},
     "source": [
      "Association between any of the phenotype and the genetic marker can be tested by setting\n",
      "\\begin{equation}\n",
      "\\mathbf{A}_1^\\text{(snp)} = \\mathbf{I}_P,\\;\\;\\;\n",
      "\\mathbf{A}_0^\\text{(snp)} = \\mathbf{0}\n",
      "\\end{equation}\n",
      "\n",
      "This is a $P$ degrees of freedom test."
     ]
    },
    {
     "cell_type": "code",
     "collapsed": false,
     "input": [
      "lmm = limix.CKroneckerLMM()\n",
      "lmm.setPheno(Y)\n",
      "lmm.setSNPs(X)\n",
      "lmm.setK1r(K)\n",
      "lmm.setK1c(Cg)\n",
      "lmm.setK2r(SP.eye(N))\n",
      "lmm.setK2c(Cn)\n",
      "#add covariates\n",
      "covs  = SP.ones((N,1))\n",
      "Acovs = SP.eye(P)\n",
      "lmm.addCovariates(covs,Acovs)\n",
      "# set SNP col designs\n",
      "Asnps = SP.eye(P)\n",
      "lmm.setSNPcoldesign(Asnps)\n",
      "# set SNP col design NULL model??\n",
      "# gwas\n",
      "lmm.process()\n",
      "pv = lmm.getPv()"
     ],
     "language": "python",
     "metadata": {},
     "outputs": [],
     "prompt_number": 86
    },
    {
     "cell_type": "code",
     "collapsed": false,
     "input": [
      "# manhattan plot\n",
      "I = (pos>geneInfo[1]-5e4)*(pos<geneInfo[1]+15e4)\n",
      "PL.subplot(2,1,1)\n",
      "PL.plot(pos[I],-SP.log10(pv[0,I]),'o')\n",
      "PL.xlim(pos[I].min(),pos[I].max())\n",
      "PL.ylim(0,10)\n",
      "PL.plot([geneInfo[1],geneInfo[1]],[0,10])"
     ],
     "language": "python",
     "metadata": {},
     "outputs": [
      {
       "metadata": {},
       "output_type": "pyout",
       "prompt_number": 87,
       "text": [
        "[<matplotlib.lines.Line2D at 0x11930a710>]"
       ]
      },
      {
       "metadata": {},
       "output_type": "display_data",
       "png": "[encoded data removed]",
       "text": [
        "<matplotlib.figure.Figure at 0x1192e4510>"
       ]
      }
     ],
     "prompt_number": 87
    },
    {
     "cell_type": "heading",
     "level": 3,
     "metadata": {},
     "source": [
      "Multi-locus Any Effect Test"
     ]
    },
    {
     "cell_type": "code",
     "collapsed": false,
     "input": [
      "# take lead SNP and condition in it\n",
      "idx = pv.argmin(1)\n",
      "lmm.addCovariates(X[:,idx],Acovs)\n",
      "# set SNP col designs\n",
      "Asnps = SP.eye(P)\n",
      "lmm.setSNPcoldesign(Asnps)\n",
      "# set SNP col design NULL model??\n",
      "# gwas\n",
      "lmm.process()\n",
      "pv_step2 = lmm.getPv()"
     ],
     "language": "python",
     "metadata": {},
     "outputs": [],
     "prompt_number": 88
    },
    {
     "cell_type": "code",
     "collapsed": false,
     "input": [
      "# manhattan plot\n",
      "I = (pos>geneInfo[1]-5e4)*(pos<geneInfo[1]+15e4)\n",
      "PL.subplot(2,1,1)\n",
      "PL.plot(pos[I],-SP.log10(pv_step2[0,I]),'o')\n",
      "PL.xlim(pos[I].min(),pos[I].max())\n",
      "PL.ylim(0,10)\n",
      "PL.plot([geneInfo[1],geneInfo[1]],[0,10])"
     ],
     "language": "python",
     "metadata": {},
     "outputs": [
      {
       "metadata": {},
       "output_type": "pyout",
       "prompt_number": 89,
       "text": [
        "[<matplotlib.lines.Line2D at 0x119347e50>]"
       ]
      },
      {
       "metadata": {},
       "output_type": "display_data",
       "png": "[encoded data removed]",
       "text": [
        "<matplotlib.figure.Figure at 0x11929ecd0>"
       ]
      }
     ],
     "prompt_number": 89
    },
    {
     "cell_type": "heading",
     "level": 3,
     "metadata": {},
     "source": [
      "Common Effect Test"
     ]
    },
    {
     "cell_type": "markdown",
     "metadata": {},
     "source": [
      "A common effect test is a 1 degree of freedom test and can be done by setting\n",
      "\\begin{equation}\n",
      "\\mathbf{A}_1^\\text{(snp)} = \\mathbf{1}_{1,P},\\;\\;\\;\n",
      "\\mathbf{A}_0^\\text{(snp)} = \\mathbf{0}\n",
      "\\end{equation}"
     ]
    },
    {
     "cell_type": "code",
     "collapsed": false,
     "input": [
      "lmm = limix.CKroneckerLMM()\n",
      "lmm.setPheno(Y)\n",
      "lmm.setSNPs(X)\n",
      "lmm.setK1r(K)\n",
      "lmm.setK1c(Cg)\n",
      "lmm.setK2r(SP.eye(N))\n",
      "lmm.setK2c(Cn)\n",
      "#add covariates\n",
      "covs  = SP.ones((N,1))\n",
      "Acovs = SP.eye(P)\n",
      "lmm.addCovariates(covs,Acovs)\n",
      "# set SNP col designs\n",
      "Asnps = SP.ones((1,P))\n",
      "lmm.setSNPcoldesign(Asnps)\n",
      "# set SNP col design NULL model??\n",
      "# gwas\n",
      "lmm.process()\n",
      "pv_comm = lmm.getPv()"
     ],
     "language": "python",
     "metadata": {},
     "outputs": [],
     "prompt_number": 91
    },
    {
     "cell_type": "code",
     "collapsed": false,
     "input": [
      "# make manhattan plot\n",
      "I = (pos>geneInfo[1]-5e4)*(pos<geneInfo[1]+15e4)\n",
      "PL.subplot(2,1,1)\n",
      "PL.plot(pos[I],-SP.log10(pv_comm[0,I]),'o')\n",
      "PL.xlim(pos[I].min(),pos[I].max())\n",
      "PL.ylim(0,10)\n",
      "PL.plot([geneInfo[1],geneInfo[1]],[0,10])"
     ],
     "language": "python",
     "metadata": {},
     "outputs": [
      {
       "metadata": {},
       "output_type": "pyout",
       "prompt_number": 92,
       "text": [
        "[<matplotlib.lines.Line2D at 0x10c6d4dd0>]"
       ]
      },
      {
       "metadata": {},
       "output_type": "display_data",
       "png": "[encoded data removed]",
       "text": [
        "<matplotlib.figure.Figure at 0x1193635d0>"
       ]
      }
     ],
     "prompt_number": 92
    },
    {
     "cell_type": "heading",
     "level": 3,
     "metadata": {},
     "source": [
      "Specific Effect Test"
     ]
    },
    {
     "cell_type": "markdown",
     "metadata": {},
     "source": [
      "For a specifc effect test for trait $p$\n",
      "the alternative model is set to have both a common and a specific effect\n",
      "for transcript $p$ from the SNP while the null model has only a common effect.\n",
      "\n",
      "It is a 1 degree of freedom test and,\n",
      "in the particular case of $P=3$ traits and for $p=0$, it can be done by setting\n",
      "$\n",
      "\\mathbf{A}_1^\\text{(snp)} =\n",
      "\\begin{align}\n",
      "  1 & 0 & 0 \\\\\n",
      "  1 & 1 & 1\n",
      " \\end{pmatrix}\n",
      "\\;\\;\\;,\n",
      "\\mathbf{A}_0^\\text{(snp)} = \\mathbf{1}_{1,3}\n",
      "$"
     ]
    },
    {
     "cell_type": "code",
     "collapsed": false,
     "input": [
      "pv_spec = SP.zeros((P,X.shape[1]))\n",
      "# set design for null model\n",
      "Asnps0 = SP.ones((1,P))\n",
      "# trait-by-trait analysis\n",
      "for p in range(pv.shape[0]):\n",
      "    # set trait design\n",
      "    _Asnps = SP.zeros((1,P))\n",
      "    _Asnps[0,p] = 1\n",
      "    Asnps1 = SP.concatenate((Asnps0,_Asnps),0)\n",
      "    # gwas\n",
      "    lmm.process()\n",
      "    pv_spec[p,:] = lmm.getPv()[0,:]"
     ],
     "language": "python",
     "metadata": {},
     "outputs": []
    }
   ],
   "metadata": {}
  }
 ]
}