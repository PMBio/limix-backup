{
 "metadata": {
  "name": "",
  "signature": "sha256:a1ba80667774084c1b7bf5f315ea4edfb08a65b3fb9dbecb5bee608fbb51a2a5"
 },
 "nbformat": 3,
 "nbformat_minor": 0,
 "worksheets": [
  {
   "cells": [
    {
     "cell_type": "markdown",
     "metadata": {},
     "source": [
      "In this demo we show how to use LIMIX to build genetic models and perform different anlysis of single and multiple traits.\n",
      "We consider a yeast dataset (Smith et al, 2008, PLoS Biology)\n",
      "consisting of 109 individuals with 2,956 marker SNPs and expression levels for 5,493 in glucose and ethanol growth media respectively.\n",
      "Such a dataset is ideal to showcase LIMIX and multiple trait analysis,\n",
      "containing two different axis of multi-trait variation\n",
      "(multiple genes and multiple environments).\n",
      "In particular, in these demos,\n",
      "we focus on the subset of the 11 genes in the Lysine Biosynthesis KEEG pathway considered in the paper."
     ]
    },
    {
     "cell_type": "markdown",
     "metadata": {},
     "source": [
      "We start discussing GWAS, multi locus models\n",
      "and variance decomposition models for single trait analysis and then\n",
      "we show how there models are extended for joint analysis of multiple traits.\n",
      "Then we go on to discuss how the prediction tool made available by LIMIX\n",
      "can be used to monitor overfitting and perform model selection.\n",
      "Finally, we show how LIMIX can be used to build model that infer and account for hidden confounders\n",
      "from high-dimensional phenotype data both in single trait and multi trait analysis."
     ]
    },
    {
     "cell_type": "heading",
     "level": 1,
     "metadata": {},
     "source": [
      "Setting up"
     ]
    },
    {
     "cell_type": "code",
     "collapsed": false,
     "input": [
      "%matplotlib inline\n",
      "//%connect_info"
     ],
     "language": "python",
     "metadata": {},
     "outputs": [
      {
       "ename": "SyntaxError",
       "evalue": "invalid syntax (<ipython-input-1-4dbb990c013d>, line 2)",
       "output_type": "pyerr",
       "traceback": [
        "\u001b[0;36m  File \u001b[0;32m\"<ipython-input-1-4dbb990c013d>\"\u001b[0;36m, line \u001b[0;32m2\u001b[0m\n\u001b[0;31m    (/%connect_info)\u001b[0m\n\u001b[0m     ^\u001b[0m\n\u001b[0;31mSyntaxError\u001b[0m\u001b[0;31m:\u001b[0m invalid syntax\n"
       ]
      }
     ],
     "prompt_number": 1
    },
    {
     "cell_type": "code",
     "collapsed": false,
     "input": [
      "import scipy as SP\n",
      "import pylab as PL\n",
      "from matplotlib import cm\n",
      "import h5py\n",
      "import pdb\n",
      "SP.random.seed(0)"
     ],
     "language": "python",
     "metadata": {},
     "outputs": [],
     "prompt_number": 2
    },
    {
     "cell_type": "code",
     "collapsed": false,
     "input": [
      "# import limix\n",
      "import limix.modules.varianceDecomposition as VAR\n",
      "import limix.modules.qtl as QTL\n",
      "import limix.modules.data as DATA"
     ],
     "language": "python",
     "metadata": {},
     "outputs": [],
     "prompt_number": 3
    },
    {
     "cell_type": "code",
     "collapsed": false,
     "input": [
      "# temporary\n",
      "from include.utils import *\n",
      "from include.manhattan_script import plot_manhattan"
     ],
     "language": "python",
     "metadata": {},
     "outputs": [],
     "prompt_number": 4
    },
    {
     "cell_type": "code",
     "collapsed": false,
     "input": [
      "#genes from lysine biosynthesis pathway\n",
      "lysine_group = ['YIL094C', 'YDL182W', 'YDL131W', 'YER052C', 'YBR115C', 'YDR158W',\n",
      "                'YNR050C', 'YJR139C', 'YIR034C', 'YGL202W', 'YDR234W']"
     ],
     "language": "python",
     "metadata": {},
     "outputs": [],
     "prompt_number": 5
    },
    {
     "cell_type": "code",
     "collapsed": false,
     "input": [
      "#import data\n",
      "fname = './data/smith_2008/smith08.hdf5'\n",
      "data = DATA.QTLData(fname)\n",
      "#getting genotypes\n",
      "X = data.getGenotypes()\n",
      "cumPos = getCumPos(data)\n",
      "chromBounds = getChromBounds(data)\n",
      "# non-normalized and normalized sample relatedeness matrix\n",
      "R0 = SP.dot(X,X.T)\n",
      "R  = R0/R0.diagonal().mean()"
     ],
     "language": "python",
     "metadata": {},
     "outputs": [],
     "prompt_number": 6
    },
    {
     "cell_type": "code",
     "collapsed": false,
     "input": [
      "# plot sample relatedeness matrix\n",
      "plt = PL.subplot(1,1,1)\n",
      "PL.title('genetic kinship')\n",
      "PL.imshow(R,vmin=0,vmax=1,interpolation='none',cmap=cm.afmhot)\n",
      "PL.colorbar(ticks=[0,0.5,1],orientation='horizontal')\n",
      "plt.set_xticks([])\n",
      "plt.set_yticks([])"
     ],
     "language": "python",
     "metadata": {},
     "outputs": [
      {
       "metadata": {},
       "output_type": "pyout",
       "prompt_number": 7,
       "text": [
        "[]"
       ]
      }
     ],
     "prompt_number": 7
    },
    {
     "cell_type": "heading",
     "level": 1,
     "metadata": {},
     "source": [
      "Single Trait Analysis"
     ]
    },
    {
     "cell_type": "heading",
     "level": 2,
     "metadata": {},
     "source": [
      "Single Locus Analysis"
     ]
    },
    {
     "cell_type": "heading",
     "level": 3,
     "metadata": {},
     "source": [
      "The Genetic Model"
     ]
    },
    {
     "cell_type": "markdown",
     "metadata": {},
     "source": [
      "Indicating with $N$ the number of samples,\n",
      "the standard LMM considered by LIMIX is\n",
      "\\begin{equation}\n",
      "\\mathbf{y} = \\mathbf{F}\\boldsymbol{\\alpha} + \\mathbf{x}\\beta + \\mathbf{g}+\\boldsymbol{\\psi},\\;\\;\\;\n",
      "\\mathbf{g}\\sim\\mathcal{N}\\left(\\mathbf{0},\\sigma_g^2\\mathbf{R}\\right),\\;\n",
      "\\boldsymbol{\\psi}\\sim\\mathcal{N}\\left(\\mathbf{0},\\sigma_e^2\\mathbf{I}_N\\right)\n",
      "\\end{equation}\n",
      "where\n",
      "\\begin{eqnarray}\n",
      "\\mathbf{y}   &=& \\text{phenotype vector} \\in \\mathcal{R}^{N,1} \\\\\n",
      "\\mathbf{F}   &=& \\text{matrix of $K$ covariates} \\in \\mathcal{R}^{N,K} \\\\\n",
      "\\boldsymbol{\\alpha} &=& \\text{effect of covariates} \\in \\mathcal{R}^{K,1} \\\\\n",
      "\\mathbf{x}   &=& \\text{genetic profile of the SNP being tested} \\in \\mathcal{R}^{N,1} \\\\\n",
      "\\boldsymbol{\\beta}   &=& \\text{effect size of the SNP} \\in \\mathcal{R} \\\\\n",
      "\\mathbf{R}   &=& \\text{sample relatedeness matrix} \\in \\mathcal{R}^{N,N} \\\\\n",
      "\\end{eqnarray}\n",
      "Association between phenotypic changes and the genetic markers is tested by testing $\\beta\\neq0$.\n",
      "\n",
      "The model can be rewritten using the delta-representation\n",
      "\\begin{equation}\n",
      "\\mathbf{y}\\sim\n",
      "\\mathcal{N}\\left(\\mathbf{W}\\boldsymbol{\\alpha}+\\mathbf{x}\\beta,\n",
      "\\sigma_g^2\\left(\\mathbf{R}+\\delta\\mathbf{I}\\right)\\right)\n",
      "\\end{equation}\n",
      "where $\\delta={\\sigma_e^2}/{\\sigma_g^2}$ is the signal-to-noise ratio.\n",
      "and is refitted SNP-by-SNP during the scan."
     ]
    },
    {
     "cell_type": "heading",
     "level": 3,
     "metadata": {},
     "source": [
      "Example: Single-trait eQTL mapping for gene YBR115C in environment 0"
     ]
    },
    {
     "cell_type": "code",
     "collapsed": false,
     "input": [
      "# getting data\n",
      "Y = data.getPhenotypes(geneIDs='YBR115C',environments=0)[0]\n",
      "N,G = Y.shape\n",
      "\n",
      "# Running the analysis\n",
      "# when cov are not set, LIMIX considers an intercept (F=SP.ones((N,1)))\n",
      "lmm = QTL.simple_lmm(X,Y,K=R,covs=None)\n",
      "\n",
      "# get p-values\n",
      "pv = lmm.getPv()         # 1xS vector of p-values (S=X.shape[1])\n",
      "beta = lmm.getBetaSNP()  # 1xS vector of effect sizes (S=X.shape[1])"
     ],
     "language": "python",
     "metadata": {},
     "outputs": [
      {
       "output_type": "stream",
       "stream": "stdout",
       "text": [
        "finished GWAS testing in 0.04 seconds\n"
       ]
      }
     ],
     "prompt_number": 8
    },
    {
     "cell_type": "code",
     "collapsed": false,
     "input": [
      "plt = PL.subplot(2,1,1)\n",
      "plot_manhattan(plt,cumPos,pv[0,:],chromBounds)"
     ],
     "language": "python",
     "metadata": {},
     "outputs": [],
     "prompt_number": 9
    },
    {
     "cell_type": "heading",
     "level": 3,
     "metadata": {},
     "source": [
      "Example: Single-trait eQTL mapping for all genes in the pathways in environment 0"
     ]
    },
    {
     "cell_type": "code",
     "collapsed": false,
     "input": [
      "# getting data\n",
      "Y = data.getPhenotypes(geneIDs=lysine_group,environments=0)[0]\n",
      "N,G = Y.shape\n",
      "\n",
      "# Running the analysis\n",
      "# when a matrix phenotype si given\n",
      "# LIMIX performs single-trait GWAS on all columns (traits) one-by-one\n",
      "lmm = QTL.simple_lmm(X,Y,K=R,covs=None)\n",
      "\n",
      "# get p-values\n",
      "pv = lmm.getPv()         # GxS vector of p-values (G=Y.shape[1]=#genes,S=X.shape[1],#SNPs)\n",
      "beta = lmm.getBetaSNP()  # GxS vector of effect sizes"
     ],
     "language": "python",
     "metadata": {},
     "outputs": [
      {
       "output_type": "stream",
       "stream": "stdout",
       "text": [
        "finished GWAS testing in 0.23 seconds\n"
       ]
      }
     ],
     "prompt_number": 10
    },
    {
     "cell_type": "code",
     "collapsed": false,
     "input": [
      "# plotting all manhattan plots\n",
      "PL.figure(1,figsize=(10,16))\n",
      "lim = -1.2*SP.log10(pv.min())\n",
      "for g in range(G):\n",
      "    plt = PL.subplot(G,2,g+1)\n",
      "    PL.title(lysine_group[g])\n",
      "    if g!=G-1:   xticklabels = False\n",
      "    else:        xticklabels = True\n",
      "    plot_manhattan(plt,cumPos,pv[g,:],chromBounds,lim=lim,xticklabels=xticklabels)\n",
      "PL.tight_layout()"
     ],
     "language": "python",
     "metadata": {},
     "outputs": [
      {
       "output_type": "stream",
       "stream": "stderr",
       "text": [
        "/opt/local/Library/Frameworks/Python.framework/Versions/2.7/lib/python2.7/site-packages/matplotlib/tight_layout.py:225: UserWarning: tight_layout : falling back to Agg renderer\n",
        "  warnings.warn(\"tight_layout : falling back to Agg renderer\")\n"
       ]
      }
     ],
     "prompt_number": 11
    },
    {
     "cell_type": "code",
     "collapsed": false,
     "input": [
      "# plotting minimum pv across genes\n",
      "pv_min = pv.min(0)\n",
      "plt = PL.subplot(2,1,1)\n",
      "plot_manhattan(plt,cumPos,pv_min,chromBounds)"
     ],
     "language": "python",
     "metadata": {},
     "outputs": [],
     "prompt_number": 12
    },
    {
     "cell_type": "heading",
     "level": 2,
     "metadata": {},
     "source": [
      "Multi locus Single Trait Model"
     ]
    },
    {
     "cell_type": "heading",
     "level": 3,
     "metadata": {},
     "source": [
      "The Genetic Model"
     ]
    },
    {
     "cell_type": "markdown",
     "metadata": {},
     "source": [
      "The model LIMIX emplys for standard GWAS can be extended to include multiple loci by step-wise forward selection.\n",
      "This is done by performing the following two steps:\n",
      "- a genome-wide scan is performed using the standard linear mixed model\n",
      "- if the most associated marker has P-value lower than a certain threshold\n",
      "the marker is added as covariate and the algorithm return to step 1, otherwise it stops here.\n",
      "\n",
      "LIMIX allows the user to set\n",
      "- a threshold either over the P-value or the Q-value of the most associated SNP as stopping criterion;\n",
      "- a maximum number of iterations as stopping criterion;"
     ]
    },
    {
     "cell_type": "heading",
     "level": 3,
     "metadata": {},
     "source": [
      "Example: Single-trait eQTL mapping for gene YBR115C in environment 0"
     ]
    },
    {
     "cell_type": "code",
     "collapsed": false,
     "input": [
      "# getting data\n",
      "Y = data.getPhenotypes(geneIDs='YBR115C',environments=0)[0]\n",
      "N,G = Y.shape\n",
      "\n",
      "# Running the analysis\n",
      "thr = 0.01/X.shape[1] # threshold on pvalues (Bonferroni corrected significance level of 1%)\n",
      "maxiter = 10 # maximum number of iterations\n",
      "lmm, RV = QTL.forward_lmm(X,Y,K=R,qvalues=False,threshold=thr,maxiter=maxiter)\n",
      "# RV contains:\n",
      "# - iadded:   array of indices of SNPs included in order of inclusion\n",
      "# - pvadded:  array of Pvalues obtained by the included SNPs in iteration before inclusion\n",
      "# - pvall:   [maxiter x S] SP.array of Pvalues for all iterations"
     ],
     "language": "python",
     "metadata": {},
     "outputs": [
      {
       "output_type": "stream",
       "stream": "stdout",
       "text": [
        "finished GWAS testing in 0.03 seconds\n",
        "finished GWAS testing in 0.02 seconds\n"
       ]
      }
     ],
     "prompt_number": 13
    },
    {
     "cell_type": "code",
     "collapsed": false,
     "input": [
      "# TODO: plotting"
     ],
     "language": "python",
     "metadata": {},
     "outputs": [],
     "prompt_number": 14
    },
    {
     "cell_type": "heading",
     "level": 2,
     "metadata": {},
     "source": [
      "Variance Component Models"
     ]
    },
    {
     "cell_type": "markdown",
     "metadata": {},
     "source": [
      "Here we show how the LIMIX variance decomposition module\n",
      "can be used in genetic anlysis of variance for single trait analysis."
     ]
    },
    {
     "cell_type": "heading",
     "level": 3,
     "metadata": {},
     "source": [
      "The Genetic Model"
     ]
    },
    {
     "cell_type": "markdown",
     "metadata": {},
     "source": [
      "The model considered by the LIMIX variance decomposition module is an extension of the genetic model\n",
      "employed in standard GWAS in to include different random effects terms:\n",
      "\\begin{equation}\n",
      "\\mathbf{y} = \\mathbf{F}\\boldsymbol{\\alpha} + \\sum_{x}\\mathbf{u}^{(x)} + \\boldsymbol{\\psi},\\;\\;\\;\\;\n",
      "\\mathbf{u}^{(x)}\\sim\\mathcal{N}\\left(\\mathbf{0},{\\sigma^{(x)}}^2\\mathbf{R}^{(x)}\\right),\\;\n",
      "\\boldsymbol{\\Psi}\\sim\\mathcal{N}\\left(\\mathbf{0},\\sigma_e^2\\mathbf{I}_N\\right)\n",
      "\\end{equation}\n",
      "where\n",
      "\\begin{eqnarray}\n",
      "\\mathbf{y}   &=& \\text{phenotype vector} \\in \\mathcal{R}^{N,1} \\\\\n",
      "\\mathbf{F}   &=& \\text{matrix of $K$ covariates} \\in \\mathcal{R}^{N,K} \\\\\n",
      "\\boldsymbol{\\alpha} &=& \\text{effect of covariates} \\in \\mathcal{R}^{K,1} \\\\\n",
      "\\mathbf{R}^{(x)}   &=& \\text{is the sample covariance matrix for contribution $x$} \\in \\mathcal{R}^{N,N} \\\\\n",
      "\\end{eqnarray}\n",
      "\n",
      "If $\\mathbf{R}$ is a genetic contribution from set of SNPs $\\mathcal{S}$,\n",
      "with a bit of abuse of notation we can write\n",
      "$\\mathbf{R}= \\frac{1}{C}\\mathbf{X}_{:,\\,\\mathcal{S}}{\\mathbf{X}_{:,\\,\\mathcal{S}}}^T$\n",
      "where $C=\\frac{1}{N}\\text{trace}\\left(\\mathbf{X}_{:,\\,\\mathcal{S}_i}{\\mathbf{X}_{:,\\,\\mathcal{S}_i}}^T\\right)$.\n",
      "\n",
      "LIMIX allows the user to flexibly build the model by adding fixed and random effect terms.\n"
     ]
    },
    {
     "cell_type": "heading",
     "level": 3,
     "metadata": {},
     "source": [
      "Example: Cis/Trans Variance Decomposition in environment 0"
     ]
    },
    {
     "cell_type": "markdown",
     "metadata": {},
     "source": [
      "Here we use the LIMIX variance decomposition module to quantify the variability\n",
      "in gene expression explained by proximal (cis) and distal (trans) genetic variation.\n",
      "To do so, we build a linear mixed model with a fixed effect intercept,\n",
      "two random effects for cis and trans genetic effects and a noise random effect:\n",
      "\n",
      "\\begin{equation}\n",
      "\\mathbf{y} = \\mathbf{1}_N\\mu + \\mathbf{u}^{(cis)} + \\mathbf{u}^{(trans)} + \\boldsymbol{\\psi},\\;\\;\\;\\;\n",
      "\\mathbf{u}^{(cis)}\\sim\\mathcal{N}\\left(\\mathbf{0},{\\sigma^{(x)}}^2\\mathbf{R}^{(cis)}\\right),\\;\n",
      "\\mathbf{u}^{(trans)}\\sim\\mathcal{N}\\left(\\mathbf{0},{\\sigma^{(x)}}^2\\mathbf{R}^{(trans)}\\right),\\;\n",
      "\\boldsymbol{\\Psi}\\sim\\mathcal{N}\\left(\\mathbf{0},\\sigma_e^2\\mathbf{I}_N\\right)\n",
      "\\end{equation}\n",
      "\n",
      "where $\\mathbf{R}^\\text{(cis)}$ and $\\mathbf{R}^\\text{(trans)}$ are the local and distal relatedeness matrices,\n",
      "built considering all SNPs in cis and trans (i.e., not in cis) respectively.\n",
      "As cis region we considered a window of 500kb downstream and upstream the gene.\n",
      "\n",
      "The gene-model is fitted to gene expression in environment 0 for\n",
      "all genes in the Lysine Biosynthesis pathway and variance components are averaged thereafter to obtain pathway\n",
      "based variance components."
     ]
    },
    {
     "cell_type": "code",
     "collapsed": false,
     "input": [
      "# loop over genes and fit variance component model\n",
      "var = []\n",
      "G = len(lysine_group)\n",
      "for g in range(G):\n",
      "    \n",
      "    print '.. fit gene %d' % g\n",
      "    \n",
      "    #get phenotype for gene g and environment 0\n",
      "    geneID = lysine_group[g]\n",
      "    Y = data.getPhenotypes(geneIDs=geneID,environments=0)[0]\n",
      "\n",
      "    #build kinships\n",
      "    Icis = data.getIcis_geno(lysine_group[g],5e5)\n",
      "    if Icis.sum()==0:      continue\n",
      "    Xcis = X[:,Icis]\n",
      "    Rcis    = SP.dot(Xcis,Xcis.T)\n",
      "    Rtrans  = R0-Rcis # R0 = XX.T = non-normalized relatedness matrix\n",
      "    Rcis   /= Rcis.diagonal().mean()\n",
      "    Rtrans /= Rtrans.diagonal().mean()\n",
      "\n",
      "    # variance component model\n",
      "    vc = VAR.CVarianceDecomposition(Y)\n",
      "    vc.addFixedEffect()\n",
      "    vc.addRandomEffect(K=Rcis)\n",
      "    vc.addRandomEffect(K=Rtrans)\n",
      "    vc.addRandomEffect(is_noise=True)\n",
      "    vc.findLocalOptimum()\n",
      "    \n",
      "    # get variances\n",
      "    # vc.getVariances() returs a vector of variances explained\n",
      "    # by the three random effects in order of addition (cis,trans,noise)\n",
      "    _var = vc.getVariances()\n",
      "    \n",
      "    var.append(_var)\n",
      "    \n",
      "var = SP.array(var)"
     ],
     "language": "python",
     "metadata": {},
     "outputs": [
      {
       "output_type": "stream",
       "stream": "stdout",
       "text": [
        ".. fit gene 0\n",
        "Local minimum found at iteration 0\n",
        ".. fit gene 1\n",
        "Local minimum found at iteration 0\n",
        ".. fit gene 2\n",
        "Local minimum found at iteration 0"
       ]
      },
      {
       "output_type": "stream",
       "stream": "stdout",
       "text": [
        "\n",
        ".. fit gene 3\n",
        "Local minimum found at iteration 0\n",
        ".. fit gene 4\n",
        "Local minimum found at iteration 0\n",
        ".. fit gene 5\n",
        "Local minimum found at iteration 0"
       ]
      },
      {
       "output_type": "stream",
       "stream": "stdout",
       "text": [
        "\n",
        ".. fit gene 6\n",
        "Local minimum found at iteration 0\n",
        ".. fit gene 7\n",
        "Local minimum found at iteration 1"
       ]
      },
      {
       "output_type": "stream",
       "stream": "stdout",
       "text": [
        "\n",
        ".. fit gene 8\n",
        "Local minimum found at iteration 0\n",
        ".. fit gene 9\n",
        "Local minimum found at iteration 0\n",
        ".. fit gene 10\n",
        "Local minimum found at iteration 0"
       ]
      },
      {
       "output_type": "stream",
       "stream": "stdout",
       "text": [
        "\n"
       ]
      }
     ],
     "prompt_number": 15
    },
    {
     "cell_type": "code",
     "collapsed": false,
     "input": [
      "#normalize variance component and average\n",
      "var/=var.sum(1)[:,SP.newaxis]\n",
      "var_mean = var.mean(0)\n",
      "labels = ['cis','trans','noise']\n",
      "colors = ['Green','MediumBlue','Gray']\n",
      "PL.pie(var_mean,labels=labels,autopct='%1.1f%%',colors=colors,shadow=True, startangle=0)"
     ],
     "language": "python",
     "metadata": {},
     "outputs": [
      {
       "metadata": {},
       "output_type": "pyout",
       "prompt_number": 16,
       "text": [
        "([<matplotlib.patches.Wedge at 0x10c2cb850>,\n",
        "  <matplotlib.patches.Wedge at 0x10c2d00d0>,\n",
        "  <matplotlib.patches.Wedge at 0x10c2d3290>],\n",
        " [<matplotlib.text.Text at 0x10c275250>,\n",
        "  <matplotlib.text.Text at 0x10c2d0950>,\n",
        "  <matplotlib.text.Text at 0x10c2d3c50>],\n",
        " [<matplotlib.text.Text at 0x10c2c3a90>,\n",
        "  <matplotlib.text.Text at 0x10c2d0e10>,\n",
        "  <matplotlib.text.Text at 0x10c2d8110>])"
       ]
      }
     ],
     "prompt_number": 16
    },
    {
     "cell_type": "heading",
     "level": 1,
     "metadata": {},
     "source": [
      "Multi Trait Analysis"
     ]
    },
    {
     "cell_type": "markdown",
     "metadata": {},
     "source": [
      "Denoting with $N$ and $P$ the number of samples and phenotypes in the analysis,\n",
      "LIMIX models the $N \\times P$ matrix-variate phenotype $\\mathbf{Y}$\n",
      "as a sum of fixed and random effects in a multivariate mixed model framework.\n",
      "\n",
      "Single-trait models only consider the across-sample axis of variation and thus\n",
      "- fixed effects need only specification of a sample design (denoted by $\\mathbf{F}$ so far)\n",
      "- random effects need only specification of a sample covariance matrix (denoted by $\\mathbf{R}$ so far),\n",
      "which describes the correlation across samples induced by the random effect\n",
      "\n",
      "Conversely, multi-trait models also consider the across-trait axis of variation and thus\n",
      "- fixed effects also require a sample design (denoted with $\\mathbf{A}$ in the following)\n",
      "- random effects also require a trait covariance matrix (denoted with $\\mathbf{C}$ in the following),\n",
      "which describes the correlation across traits induced by the random effect\n",
      "\n",
      "Different forms of trait designs for fixed effects and trait covariances for random effects\n",
      "reflect different hypothesis on how these contributions affect phenotypes\n",
      "(e.g., shared and trait-specific effects).\n",
      "In the following, we will show how LIMIX can be used for different analysis of multiple traits\n",
      "wisely choosing trait designs and covariances.\n",
      "\n",
      "We decided to start with multi-trait variance components models before going to\n",
      "multi-trait GWAS analysis, including single-locus and multi-locus analysis.\n",
      "In the next section we will be discussing more subtle problems as regularization and model selection."
     ]
    },
    {
     "cell_type": "heading",
     "level": 2,
     "metadata": {},
     "source": [
      "Variance decomposition"
     ]
    },
    {
     "cell_type": "heading",
     "level": 3,
     "metadata": {},
     "source": [
      "Genetic Model"
     ]
    },
    {
     "cell_type": "markdown",
     "metadata": {},
     "source": [
      "The general multi-trait linear mixed models considered in the LIMIX variance decomposition module can be written as\n",
      "\\begin{equation}\n",
      "\\mathbf{Y} = \\sum_i\\mathbf{F}_i\\boldsymbol{W}_i\\boldsymbol{A}^\\text{(cov)}_i + \\sum_{x}\\mathbf{U}^{(x)} + \\boldsymbol{\\Psi},\\;\\;\\;\\;\n",
      "\\mathbf{U}^{(x)}\\sim\\text{MVN}\\left(\\mathbf{0},\\mathbf{R}^{(x)},\\mathbf{C}^{(x)}\\right),\\;\n",
      "\\boldsymbol{\\Psi}\\sim\\text{MVN}\\left(\\mathbf{0},\\mathbf{I}_N,\\mathbf{C}^\\text{(noise)}\\right)\n",
      "\\end{equation}\n",
      "where\n",
      "\\begin{eqnarray}\n",
      "\\mathbf{Y}   &=& \\text{phenotype vector} \\in \\mathcal{R}^{N,P} \\\\\n",
      "\\mathbf{F}_i   &=& \\text{sample designs for fixed effects} \\in \\mathcal{R}^{N,K} \\\\\n",
      "\\mathbf{W}_i   &=& \\text{effect size matrix of covariates} \\in \\mathcal{R}^{K,L} \\\\\n",
      "\\mathbf{A}^\\text{(cov)} &=& \\text{trait design for the fixed effect} \\in \\mathcal{R}^{L,P} \\\\\n",
      "\\mathbf{R}^{(x)}   &=& \\text{sample covariance matrix for contribution $x$} \\in \\mathcal{R}^{N,N} \\\\\n",
      "\\mathbf{C}^{(x)}   &=& \\text{trait covariance matrix for contribution $x$} \\in \\mathcal{R}^{P,P} \\\\\n",
      "\\mathbf{C}^\\text{(noise)}   &=& \\text{residual trait covariance matrix} \\in \\mathcal{R}^{P,P} \\\\\n",
      "\\end{eqnarray}\n",
      "\n",
      "\n",
      "The variance decomposition module in LIMIX allows the user to build the model by adding any number of fixed and random effects, specify different designs for fixed effects and choose covariance models for random effects. In case of only two random effects LIMIX uses speedups beaking the $O(N^3P^3)$ complexity in $O(N^3+P^3)$.\n",
      "\n",
      "In the following we show two different example.\n",
      "In the first example we construct interpretable trait covariances for random effects and build\n",
      "a model that dissects gene expression variability across environmental and cis and trans genetic effects,\n",
      "and their interactions (cis GxE, trans GxE).\n",
      "In the second example we show how to use the fast implementation for a two-random-effect model,\n",
      "one for genetic effects and the other for residuals.\n",
      "Such a model is the natural extention to multi-trait analysis of the null model in single-trait GWAS\n",
      "and it is the first step of any multi-trait GWAS analysis performed in LIMIX.\n",
      "\n"
     ]
    },
    {
     "cell_type": "heading",
     "level": 3,
     "metadata": {},
     "source": [
      "Example 1: GxE variance decomposition for Lysine Biosynthesis"
     ]
    },
    {
     "cell_type": "markdown",
     "metadata": {},
     "source": [
      "Indicating with $N$ and $E=2$ respectively the number of samples and the number of environments,\n",
      "we considered for each gene a model consisting of\n",
      "an envoronment-specific intercept term,\n",
      "a random effect for cis genetic effects,\n",
      "a random effect for trans genetic effects,\n",
      "and a noise random effect term.\n",
      "\n",
      "The model can be written\n",
      "\\begin{equation}\n",
      "\\mathbf{Y}=\\mathbf{FWA}+\\mathbf{U}^\\text{(cis)}+\\mathbf{U}^\\text{(trans)}+\\boldsymbol{\\Psi},\\;\\;\\;\\;\\;\n",
      "\\mathbf{U}^\\text{(cis)}\\sim\\text{MVN}(\\mathbf{0},\\mathbf{R}^\\text{(cis)},\\mathbf{C}^\\text{(cis)}),\\;\n",
      "\\mathbf{U}^\\text{(trans)}\\sim\\text{MVN}(\\mathbf{0},\\mathbf{R}^\\text{(trans)},\\mathbf{C}^\\text{(trans)}),\\;\n",
      "\\boldsymbol{\\Psi}\\sim\\text{MVN}(\\mathbf{0},\\mathbf{I}_N,\\mathbf{C}_n),\n",
      "\\end{equation}\n",
      "where $\\mathbf{R}^\\text{(cis)}$ and $\\mathbf{R}^\\text{(trans)}$ are the local and distal kinships,\n",
      "built considering all SNPs in cis and trans (i.e., not in cis) respectively.\n",
      "As in the single-trait analysis, we considered as cis region\n",
      "the region of 500kb downstream and upstream the gene.\n",
      "\n",
      "To dissect persistent and specific variance compoents we considered a 'block+diagonal' form for $C^{(x)}$:\n",
      "\\begin{equation}\n",
      "C^{(x)} =\n",
      "{a^{(x)}}^2\n",
      "\\left[\n",
      "\\begin{array}{cc}\n",
      "1 & 1\\\\\n",
      "1 & 1\n",
      "\\end{array}\n",
      "\\right]\n",
      "+\n",
      "\\left[\n",
      "\\begin{array}{cc}\n",
      "{c^{(x)}_1}^2 & 0\\\\\n",
      "0 & {c^{(x)}_2}^2\n",
      "\\end{array}\n",
      "\\right]\n",
      "=\n",
      "\\left[\n",
      "\\begin{array}{cc}\n",
      "{a^{(x)}}^2+{c^{(x)}_1}^2 & {a^{(x)}}^2\\\\\n",
      "{a^{(x)}}^2 & {a^{(x)}}^2+{c^{(x)}_2}^2\n",
      "\\end{array}\n",
      "\\right]\n",
      "\\end{equation}\n",
      "Variance of persistent and specific (GxE) effects from term $x$ are ${a^{(x)}}^2$ and $\\frac{1}{2}\\left({c_1^{(x)}}^2+{c_2^{(x)}}^2\\right)$ while the variance explained by pure environmental shift can be calculated as $\\text{var}\\left(W\\right)$."
     ]
    },
    {
     "cell_type": "code",
     "collapsed": false,
     "input": [
      "# loop over genes and fit variance component model\n",
      "var = []\n",
      "G = len(lysine_group)\n",
      "for g in range(G):\n",
      "    \n",
      "    print '.. fit gene %d' % g\n",
      "    \n",
      "    #get phenotype for gene g\n",
      "    geneID = lysine_group[g]\n",
      "    Y = data.getPhenotypes(geneIDs=geneID,center=False,impute=False)[0]\n",
      "    Y /= Y.std()\n",
      "\n",
      "    #build kinships\n",
      "    Icis = data.getIcis_geno(lysine_group[g],5e5)\n",
      "    if Icis.sum()==0:      continue\n",
      "    Xcis = X[:,Icis]\n",
      "    Rcis    = SP.dot(Xcis,Xcis.T)\n",
      "    Rtrans  = R0-Rcis # R0 = XX.T = non-normalized relatedness matrix\n",
      "    Rcis   /= Rcis.diagonal().mean()\n",
      "    Rtrans /= Rtrans.diagonal().mean()\n",
      "\n",
      "    # variance component model\n",
      "    vc = VAR.CVarianceDecomposition(Y)\n",
      "    vc.addFixedEffect()\n",
      "    vc.addRandomEffect(K=Rcis,covar_type='block_diag')\n",
      "    vc.addRandomEffect(K=Rtrans,covar_type='block_diag')\n",
      "    vc.addRandomEffect(is_noise=True,covar_type='block_diag')\n",
      "    vc.findLocalOptimum()\n",
      "    \n",
      "    # environmental variance component\n",
      "    vEnv = vc.getFixed().var()\n",
      "    # cis and cisGxE variance components\n",
      "    Ccis  = vc.getEstTraitCovar(0)\n",
      "    a2cis = Ccis[0,1]\n",
      "    c2cis = Ccis.diagonal().mean()-a2cis\n",
      "    # trans and cisGxE variance components\n",
      "    Ctrans  = vc.getEstTraitCovar(1)\n",
      "    a2trans = Ctrans[0,1]\n",
      "    c2trans = Ctrans.diagonal().mean()-a2trans\n",
      "    # noise variance components\n",
      "    Cnois = vc.getEstTraitCovar(2)\n",
      "    vNois = Cnois.diagonal().mean()\n",
      "    \n",
      "    # Append\n",
      "    var.append([vEnv,a2cis,c2cis,a2trans,c2trans,vNois])\n",
      "    \n",
      "var = SP.array(var)"
     ],
     "language": "python",
     "metadata": {},
     "outputs": [
      {
       "output_type": "stream",
       "stream": "stdout",
       "text": [
        ".. fit gene 0\n",
        "Local minimum found at iteration 0"
       ]
      },
      {
       "output_type": "stream",
       "stream": "stdout",
       "text": [
        "\n",
        ".. fit gene 1\n",
        "Local minimum found at iteration 0"
       ]
      },
      {
       "output_type": "stream",
       "stream": "stdout",
       "text": [
        "\n",
        ".. fit gene 2\n",
        "Local minimum found at iteration 0"
       ]
      },
      {
       "output_type": "stream",
       "stream": "stdout",
       "text": [
        "\n",
        ".. fit gene 3\n",
        "Local minimum found at iteration 0"
       ]
      },
      {
       "output_type": "stream",
       "stream": "stdout",
       "text": [
        "\n",
        ".. fit gene 4\n",
        "Local minimum found at iteration 0"
       ]
      },
      {
       "output_type": "stream",
       "stream": "stdout",
       "text": [
        "\n",
        ".. fit gene 5\n",
        "Local minimum found at iteration 0"
       ]
      },
      {
       "output_type": "stream",
       "stream": "stdout",
       "text": [
        "\n",
        ".. fit gene 6\n",
        "Local minimum found at iteration 0"
       ]
      },
      {
       "output_type": "stream",
       "stream": "stdout",
       "text": [
        "\n",
        ".. fit gene 7\n",
        "Local minimum found at iteration 0"
       ]
      },
      {
       "output_type": "stream",
       "stream": "stdout",
       "text": [
        "\n",
        ".. fit gene 8\n",
        "Local minimum found at iteration 0"
       ]
      },
      {
       "output_type": "stream",
       "stream": "stdout",
       "text": [
        "\n",
        ".. fit gene 9\n",
        "Local minimum found at iteration 0"
       ]
      },
      {
       "output_type": "stream",
       "stream": "stdout",
       "text": [
        "\n",
        ".. fit gene 10\n",
        "Local minimum found at iteration 0"
       ]
      },
      {
       "output_type": "stream",
       "stream": "stdout",
       "text": [
        "\n"
       ]
      }
     ],
     "prompt_number": 17
    },
    {
     "cell_type": "code",
     "collapsed": false,
     "input": [
      "#normalize variance component and average\n",
      "var/=var.sum(1)[:,SP.newaxis]\n",
      "var_mean = var.mean(0)\n",
      "labels = ['env','cis','cisGxE','trans','transGxE','noise']\n",
      "colors = ['Gold','DarkGreen','YellowGreen','DarkBlue','RoyalBlue','Gray']\n",
      "PL.pie(var_mean,labels=labels,autopct='%1.1f%%',colors=colors,shadow=True, startangle=0)"
     ],
     "language": "python",
     "metadata": {},
     "outputs": [
      {
       "metadata": {},
       "output_type": "pyout",
       "prompt_number": 18,
       "text": [
        "([<matplotlib.patches.Wedge at 0x10c2d86d0>,\n",
        "  <matplotlib.patches.Wedge at 0x10c2dbb90>,\n",
        "  <matplotlib.patches.Wedge at 0x10c2be5d0>,\n",
        "  <matplotlib.patches.Wedge at 0x10c25bb90>,\n",
        "  <matplotlib.patches.Wedge at 0x10c2e1490>,\n",
        "  <matplotlib.patches.Wedge at 0x10c2eb790>],\n",
        " [<matplotlib.text.Text at 0x10c2d88d0>,\n",
        "  <matplotlib.text.Text at 0x10c2c1710>,\n",
        "  <matplotlib.text.Text at 0x10c27b1d0>,\n",
        "  <matplotlib.text.Text at 0x10c24c350>,\n",
        "  <matplotlib.text.Text at 0x10c2e1e50>,\n",
        "  <matplotlib.text.Text at 0x10c2ed190>],\n",
        " [<matplotlib.text.Text at 0x10c2db750>,\n",
        "  <matplotlib.text.Text at 0x10c2bee90>,\n",
        "  <matplotlib.text.Text at 0x10c25e510>,\n",
        "  <matplotlib.text.Text at 0x10c24a450>,\n",
        "  <matplotlib.text.Text at 0x10c2eb350>,\n",
        "  <matplotlib.text.Text at 0x10c2ed650>])"
       ]
      }
     ],
     "prompt_number": 18
    },
    {
     "cell_type": "heading",
     "level": 3,
     "metadata": {},
     "source": [
      "Example 2: fast variance decomposition"
     ]
    },
    {
     "cell_type": "markdown",
     "metadata": {},
     "source": [
      "In this example we consider a model with only two random effects: one genetic and a noise term\n",
      "and show how to perform fast inference to learn the trait covariance matrices.\n",
      "\n",
      "We apply the model to the expression in environoment 0 of the\n",
      "11 genes of the lysine biosynthesis pathway.\n",
      "\n"
     ]
    },
    {
     "cell_type": "code",
     "collapsed": false,
     "input": [
      "Y = data.getPhenotypes(geneIDs=lysine_group,environments=0)[0]\n",
      "# variance component model\n",
      "vc = VAR.CVarianceDecomposition(Y)\n",
      "vc.addFixedEffect()\n",
      "vc.addRandomEffect(K=R,covar_type='lowrank_diag',rank=4)\n",
      "vc.addRandomEffect(is_noise=True,covar_type='lowrank_diag',rank=4)\n",
      "vc.findLocalOptimum(fast=True,init_method='diagonal')\n",
      "# retrieve geno and noise covariance matrix\n",
      "Cg = vc.getEstTraitCovar(0)\n",
      "Cn = vc.getEstTraitCovar(1)"
     ],
     "language": "python",
     "metadata": {},
     "outputs": [
      {
       "output_type": "stream",
       "stream": "stdout",
       "text": [
        "Local minimum found at iteration 0\n"
       ]
      }
     ],
     "prompt_number": 19
    },
    {
     "cell_type": "code",
     "collapsed": false,
     "input": [
      "# plot trait covariance matrices\n",
      "plt = PL.subplot(1,2,1)\n",
      "PL.title('Geno trait covariance')\n",
      "PL.imshow(Cg,vmin=-0.2,vmax=0.8,interpolation='none',cmap=cm.afmhot)\n",
      "PL.colorbar(ticks=[-0.2,0.,0.4,0.8],orientation='horizontal')\n",
      "plt.set_xticks([])\n",
      "plt.set_yticks([])\n",
      "plt = PL.subplot(1,2,2)\n",
      "PL.title('Noise trait covariance')\n",
      "PL.imshow(Cn,vmin=-0.2,vmax=0.8,interpolation='none',cmap=cm.afmhot)\n",
      "PL.colorbar(ticks=[-0.2,0.,0.4,0.8],orientation='horizontal')\n",
      "plt.set_xticks([])\n",
      "plt.set_yticks([])"
     ],
     "language": "python",
     "metadata": {},
     "outputs": [
      {
       "metadata": {},
       "output_type": "pyout",
       "prompt_number": 20,
       "text": [
        "[]"
       ]
      }
     ],
     "prompt_number": 20
    },
    {
     "cell_type": "heading",
     "level": 2,
     "metadata": {},
     "source": [
      "Multi Trait GWAS"
     ]
    },
    {
     "cell_type": "markdown",
     "metadata": {},
     "source": [
      "The genetic model considered by LIMIX for multivariate GWAS consists of\n",
      "fixed effects for covariates,\n",
      "a fixed effect for the SNP being tested,\n",
      "a random effect for the polygenic effect\n",
      "and a noisy random effect term.\n",
      "\n",
      "The model can be written\n",
      "\\begin{equation}\n",
      "\\mathbf{Y}=\n",
      "\\sum_i\\mathbf{F}_i\\boldsymbol{W}_i\\boldsymbol{A}^\\text{(cov)}_i\n",
      "+\\mathbf{XBA}_1^\\text{(snp)}+\\mathbf{G}+\\boldsymbol{\\Psi},\\;\\;\\;\\;\\;\n",
      "\\mathbf{G}\\sim\\text{MVN}(\\mathbf{0},\\mathbf{K},\\mathbf{C}_g),\\;\n",
      "\\boldsymbol{\\Psi}\\sim\\text{MVN}(\\mathbf{0},\\mathbf{I}_N,\\mathbf{C}_n),\n",
      "\\end{equation}\n",
      "where\n",
      "\\begin{eqnarray}\n",
      "\\mathbf{Y}   &=& \\text{matrix-variate phenotype} \\in \\mathcal{R}^{N,P} \\\\\n",
      "\\mathbf{F_i}   &=& \\text{sample design for covariates} \\in \\mathcal{R}^{N,K} \\\\\n",
      "\\mathbf{W_i}   &=& \\text{effect size matrix of covariates} \\in \\mathcal{R}^{K,L} \\\\\n",
      "\\mathbf{A_i}^\\text{(cov)} &=& \\text{trait design for the fixed effect} \\in \\mathcal{R}^{L,P} \\\\\n",
      "\\mathbf{X}   &=& \\text{genetic profile of the SNP} \\in \\mathcal{R}^{N,1} \\\\\n",
      "\\mathbf{B}   &=& \\text{effect sizes of the SNP} \\in \\mathcal{R}^{1,M} \\\\\n",
      "\\mathbf{A}_1^\\text{(snp)} &=& \\text{trait design for the fixed effect} \\in \\mathcal{R}^{M,P} \\\\\n",
      "\\mathbf{K}   &=& \\text{sample relatedeness matrix} \\in \\mathcal{R}^{N,N} \\\\\n",
      "\\mathbf{C}_g &=& \\text{genetic trait covariance matrix} \\in \\mathcal{R}^{P,P} \\\\\n",
      "\\mathbf{I}_N &=& \\text{sample noise matrix} \\in \\mathcal{R}^{N,N} \\\\\n",
      "\\mathbf{C}_n &=& \\text{noise trait covariance matrix} \\in \\mathcal{R}^{P,P}\n",
      "\\end{eqnarray}\n",
      "\n",
      "Prior to any multi-trait GWAS analysis,\n",
      "LIMIX learns the trait covariates matrices on the mixed model without the fixed effect from the SNP.\n",
      "However, LIMIX allows the user to set refitting of the signal-to-noise ratio $\\delta$ SNP-by-SNP during the GWAS\n",
      "as in single-trait analysis.\n",
      "\n",
      "In general, LIMIX tests for particular trait designs of the fixed effect\n",
      "$\\mathbf{A}_1^\\text{(snp)}\\neq\\mathbf{A}_0^\\text{(snp)}$.\n",
      "As shown extensively below, specifying opportunately $\\mathbf{A}_1^\\text{(snp)}$ and $\\mathbf{A}_0^\\text{(snp)}$\n",
      "different biological hypothesis can be tested."
     ]
    },
    {
     "cell_type": "heading",
     "level": 3,
     "metadata": {},
     "source": [
      "Any effect test"
     ]
    },
    {
     "cell_type": "markdown",
     "metadata": {},
     "source": [
      "Association between any of the phenotypes and the genetic marker can be tested by setting\n",
      "\\begin{equation}\n",
      "\\mathbf{A}_1^\\text{(snp)} = \\mathbf{I}_P,\\;\\;\\;\n",
      "\\mathbf{A}_0^\\text{(snp)} = \\mathbf{0}\n",
      "\\end{equation}\n",
      "This is a $P$ degrees of freedom test.\n",
      "\n",
      "In this context, multi-trait modelling is considered just to empower detection\n",
      "of genetic loci while there is no interest in the specific design of the association."
     ]
    },
    {
     "cell_type": "heading",
     "level": 4,
     "metadata": {},
     "source": [
      "Example: any effect test for gene YJR139C across environments"
     ]
    },
    {
     "cell_type": "markdown",
     "metadata": {},
     "source": [
      "Here we test for genetic effects on expression of one gene\n",
      "either in environment 0 or in environment 1.\n"
     ]
    },
    {
     "cell_type": "code",
     "collapsed": false,
     "input": [
      "# Get data\n",
      "Y = data.getPhenotypes(geneIDs='YJR139C')[0]\n",
      "N,P = Y.shape\n",
      "# Any effect test\n",
      "F    = SP.ones((N,1))\n",
      "Acov = SP.eye(P)\n",
      "Asnp = SP.eye(P)\n",
      "K1r  = R             # sample relatedness matrix\n",
      "ct   = 'freeform'    # model for trait covariance matrix\n",
      "lmm, pv = QTL.kronecker_lmm(X,Y,covs=F,Acovs=Acov,Asnps=Asnp,K1r=R,covar_type=ct)"
     ],
     "language": "python",
     "metadata": {},
     "outputs": [
      {
       "output_type": "stream",
       "stream": "stdout",
       "text": [
        ".. Training the backgrond covariance with a GP model\n",
        "Local minimum found at iteration 0\n",
        "Background model trained in 0.04 s\n"
       ]
      }
     ],
     "prompt_number": 22
    },
    {
     "cell_type": "markdown",
     "metadata": {},
     "source": [
      "REMARKS:\n",
      "- kronecker_lmm always considers Asnp0=0\n",
      "thus only Asnp1 needs to be specified\n",
      "- if trait covariance matrices (arguments K1c and K2c are not specified)\n",
      "kronecker_lmm implements the variance decomposition module to estimate them.\n",
      "In this case, the user can specify the trait covariance model to considered (covar_type and rank)."
     ]
    },
    {
     "cell_type": "code",
     "collapsed": false,
     "input": [
      "plt = PL.subplot(2,1,1)\n",
      "plot_manhattan(plt,cumPos,pv[0,:],chromBounds)"
     ],
     "language": "python",
     "metadata": {},
     "outputs": [],
     "prompt_number": 23
    },
    {
     "cell_type": "heading",
     "level": 3,
     "metadata": {},
     "source": [
      "Common effect test"
     ]
    },
    {
     "cell_type": "markdown",
     "metadata": {},
     "source": [
      "A common effect test is a 1 degree of freedom test and can be done by setting\n",
      "\\begin{equation}\n",
      "\\mathbf{A}_1^\\text{(snp)} = \\mathbf{1}_{1,P},\\;\\;\\;\n",
      "\\mathbf{A}_0^\\text{(snp)} = \\mathbf{0}\n",
      "\\end{equation}"
     ]
    },
    {
     "cell_type": "heading",
     "level": 4,
     "metadata": {},
     "source": [
      "Example: common effect test for gene YJR139C across environments"
     ]
    },
    {
     "cell_type": "code",
     "collapsed": false,
     "input": [
      "# Get data\n",
      "Y = data.getPhenotypes(geneIDs='YJR139C')[0]\n",
      "N,P = Y.shape\n",
      "# Common effect test\n",
      "F    = SP.ones((N,1))\n",
      "Acov = SP.eye(P)\n",
      "Asnp = SP.ones((1,P))\n",
      "K1r  = R             # sample relatedness matrix\n",
      "ct   = 'freeform'    # model for trait covariance matrix\n",
      "lmm, pv = QTL.kronecker_lmm(X,Y,covs=F,Acovs=Acov,Asnps=Asnp,K1r=R,covar_type=ct)"
     ],
     "language": "python",
     "metadata": {},
     "outputs": [
      {
       "output_type": "stream",
       "stream": "stdout",
       "text": [
        ".. Training the backgrond covariance with a GP model\n",
        "Local minimum found at iteration 0\n",
        "Background model trained in 0.05 s\n"
       ]
      }
     ],
     "prompt_number": 24
    },
    {
     "cell_type": "code",
     "collapsed": false,
     "input": [
      "plt = PL.subplot(2,1,1)\n",
      "plot_manhattan(plt,cumPos,pv[0,:],chromBounds)"
     ],
     "language": "python",
     "metadata": {},
     "outputs": [],
     "prompt_number": 25
    },
    {
     "cell_type": "heading",
     "level": 3,
     "metadata": {},
     "source": [
      "Specific effect test"
     ]
    },
    {
     "cell_type": "markdown",
     "metadata": {},
     "source": [
      "For a specifc effect test for trait $p$\n",
      "the alternative model is set to have both a common and a specific effect\n",
      "for transcript $p$ from the SNP while the null model has only a common effect.\n",
      "\n",
      "It is a 1 degree of freedom test and,\n",
      "in the particular case of $P=3$ traits and for $p=0$, it can be done by setting\n",
      "\\begin{equation}\n",
      "\\mathbf{A}_1^\\text{(snp)} =\n",
      "\\begin{pmatrix}\n",
      "  1 & 0 & 0 \\\\\n",
      "  1 & 1 & 1\n",
      " \\end{pmatrix}\n",
      "\\;\\;\\;,\n",
      "\\mathbf{A}_0^\\text{(snp)} = \\mathbf{1}_{1,3}\n",
      "\\end{equation}"
     ]
    },
    {
     "cell_type": "heading",
     "level": 4,
     "metadata": {},
     "source": [
      "Example: specific effect test for gene YJR139C across environmentsExample"
     ]
    },
    {
     "cell_type": "code",
     "collapsed": false,
     "input": [
      "Y = data.getPhenotypes(geneIDs='YJR139C')[0]\n",
      "# Any effect test\n",
      "F     = SP.ones((N,1))\n",
      "Acov  = SP.eye(P)\n",
      "Asnp  = SP.eye(P)\n",
      "Asnp1 = SP.eye(P)\n",
      "Asnp0 = SP.ones((1,P))\n",
      "K1r   = R             # sample relatedness matrix\n",
      "ct    = 'freeform'    # model for trait covariance matrix\n",
      "pv_spec,pv_comm,pv_any=QTL.simple_interaction_kronecker(X,Y,covs=F,Acovs=Acov,Asnps1=Asnp1,Asnps0=Asnp0,K1r=K1r,covar_type=ct)\n"
     ],
     "language": "python",
     "metadata": {},
     "outputs": [
      {
       "output_type": "stream",
       "stream": "stdout",
       "text": [
        ".. Training the backgrond covariance with a GP model\n",
        "Local minimum found at iteration 0\n",
        "Background model trained in 0.05 s\n"
       ]
      }
     ],
     "prompt_number": 26
    },
    {
     "cell_type": "markdown",
     "metadata": {},
     "source": [
      "Simple_interaction_kronecker not only compares the alternative model (where the trait design of the SNP is Asnp=Asnp1)\n",
      "versus the null model (where the trait design of the SNP is Asnp=Asnp0) but also compares\n",
      "the alternative model and the null models versus the no association model (Asnp=0).\n",
      "Three pvalues are then retured:\n",
      "- pv for alternative vs null (specific effect test)\n",
      "- pv for null vs noAssociation (common effect test)\n",
      "- pv for alternative vs noAssociation (any effect test)"
     ]
    },
    {
     "cell_type": "code",
     "collapsed": false,
     "input": [
      "tests = ['Any effect test','Interaction effect test']\n",
      "lim = -1.2*SP.log10(SP.array([pv_any.min(),pv_comm.min(),pv_spec.min()]).min())\n",
      "plt = PL.subplot(2,1,1)\n",
      "plot_manhattan(plt,cumPos,pv_any[0,:],chromBounds,colorS='k',colorNS='k',lim=lim,alphaNS=0.05)\n",
      "plot_manhattan(plt,cumPos,pv_comm,chromBounds,colorS='y',colorNS='y',lim=lim,alphaNS=0.05)\n",
      "plot_manhattan(plt,cumPos,pv_spec[0,:],chromBounds,colorS='r',colorNS='r',lim=lim,alphaNS=0.05)"
     ],
     "language": "python",
     "metadata": {},
     "outputs": [],
     "prompt_number": 27
    },
    {
     "cell_type": "heading",
     "level": 3,
     "metadata": {},
     "source": [
      "Example: any, common and specific effect tests across environments for all genes in the pathway "
     ]
    },
    {
     "cell_type": "code",
     "collapsed": false,
     "input": [
      "G = len(lysine_group)\n",
      "pv_any  = SP.zeros((G,X.shape[1]))\n",
      "pv_comm = SP.zeros((G,X.shape[1]))\n",
      "pv_spec = SP.zeros((G,X.shape[1]))\n",
      "# for loop over genes\n",
      "for g in range(G):\n",
      "    Y = data.getPhenotypes(geneIDs=lysine_group[g])[0]\n",
      "    # any, common and specific effect tests for gene g\n",
      "    _pv_spec,_pv_comm,_pv_any=QTL.simple_interaction_kronecker(X,Y,covs=SP.ones((N,1)),Acovs=SP.eye(P),Asnps1=SP.eye(P),Asnps0=SP.ones((1,P)),K1r=R,covar_type='freeform')\n",
      "    pv_any[g,:]  = _pv_any[0,:]\n",
      "    pv_comm[g,:] = _pv_comm\n",
      "    pv_spec[g,:] = _pv_spec[0,:]"
     ],
     "language": "python",
     "metadata": {},
     "outputs": [
      {
       "output_type": "stream",
       "stream": "stdout",
       "text": [
        ".. Training the backgrond covariance with a GP model\n",
        "Local minimum found at iteration 0\n",
        "Background model trained in 0.04 s\n",
        ".. Training the backgrond covariance with a GP model"
       ]
      },
      {
       "output_type": "stream",
       "stream": "stdout",
       "text": [
        "\n",
        "Local minimum found at iteration 0\n",
        "Background model trained in 0.04 s\n",
        ".. Training the backgrond covariance with a GP model"
       ]
      },
      {
       "output_type": "stream",
       "stream": "stdout",
       "text": [
        "\n",
        "Local minimum found at iteration 0\n",
        "Background model trained in 0.04 s\n",
        ".. Training the backgrond covariance with a GP model"
       ]
      },
      {
       "output_type": "stream",
       "stream": "stdout",
       "text": [
        "\n",
        "Local minimum found at iteration 0\n",
        "Background model trained in 0.04 s\n",
        ".. Training the backgrond covariance with a GP model"
       ]
      },
      {
       "output_type": "stream",
       "stream": "stdout",
       "text": [
        "\n",
        "Local minimum found at iteration 0"
       ]
      },
      {
       "output_type": "stream",
       "stream": "stdout",
       "text": [
        "\n",
        "Background model trained in 0.07 s\n",
        ".. Training the backgrond covariance with a GP model"
       ]
      },
      {
       "output_type": "stream",
       "stream": "stdout",
       "text": [
        "\n",
        "Local minimum found at iteration 0\n",
        "Background model trained in 0.04 s\n",
        ".. Training the backgrond covariance with a GP model"
       ]
      },
      {
       "output_type": "stream",
       "stream": "stdout",
       "text": [
        "\n",
        "Local minimum found at iteration 0\n",
        "Background model trained in 0.04 s\n",
        ".. Training the backgrond covariance with a GP model"
       ]
      },
      {
       "output_type": "stream",
       "stream": "stdout",
       "text": [
        "\n",
        "Local minimum found at iteration 0\n",
        "Background model trained in 0.04 s\n",
        ".. Training the backgrond covariance with a GP model"
       ]
      },
      {
       "output_type": "stream",
       "stream": "stdout",
       "text": [
        "\n",
        "Local minimum found at iteration 0\n",
        "Background model trained in 0.04 s\n",
        ".. Training the backgrond covariance with a GP model"
       ]
      },
      {
       "output_type": "stream",
       "stream": "stdout",
       "text": [
        "\n",
        "Local minimum found at iteration 0\n",
        "Background model trained in 0.04 s\n",
        ".. Training the backgrond covariance with a GP model"
       ]
      },
      {
       "output_type": "stream",
       "stream": "stdout",
       "text": [
        "\n",
        "Local minimum found at iteration 0\n",
        "Background model trained in 0.04 s\n"
       ]
      }
     ],
     "prompt_number": 28
    },
    {
     "cell_type": "code",
     "collapsed": false,
     "input": [
      "# plotting all manhattan plots\n",
      "PL.figure(1,figsize=(10,16))\n",
      "lim = -1.2*SP.log10(SP.array([pv_any.min(),pv_comm.min(),pv_spec.min()]).min())\n",
      "for g in range(G):\n",
      "    plt = PL.subplot(G,2,g+1)\n",
      "    PL.title(lysine_group[g])\n",
      "    if g!=G-1:   xticklabels = False\n",
      "    else:        xticklabels = True\n",
      "    plot_manhattan(plt,cumPos,pv_any[g,:],chromBounds,colorS='k',colorNS='k',lim=lim,alphaNS=0.05,xticklabels=xticklabels)\n",
      "    plot_manhattan(plt,cumPos,pv_comm[g,:],chromBounds,colorS='y',colorNS='y',lim=lim,alphaNS=0.05,xticklabels=xticklabels)\n",
      "    plot_manhattan(plt,cumPos,pv_spec[g,:],chromBounds,colorS='r',colorNS='r',lim=lim,alphaNS=0.05,xticklabels=xticklabels)\n",
      "PL.tight_layout()"
     ],
     "language": "python",
     "metadata": {},
     "outputs": [],
     "prompt_number": 29
    },
    {
     "cell_type": "markdown",
     "metadata": {},
     "source": [
      "All any-effect eQTL are explained by environmental persistent signal\n",
      "with the exception of the peak on chromosome 2 for gene YNR050C that has\n",
      "an almost significant specific component.\n",
      "These results together with those obtained from the GxE variance decomposition analysis\n",
      "suggest that the strong transGxE signal of the genes in the pathway is due to interaction\n",
      "of the poligenic effect with the environment.\n"
     ]
    },
    {
     "cell_type": "heading",
     "level": 2,
     "metadata": {},
     "source": [
      "Multi trait Multi locus"
     ]
    },
    {
     "cell_type": "code",
     "collapsed": false,
     "input": [],
     "language": "python",
     "metadata": {},
     "outputs": [],
     "prompt_number": 29
    },
    {
     "cell_type": "heading",
     "level": 1,
     "metadata": {},
     "source": [
      "Predictions and Model Selection"
     ]
    },
    {
     "cell_type": "code",
     "collapsed": false,
     "input": [],
     "language": "python",
     "metadata": {},
     "outputs": [],
     "prompt_number": 29
    },
    {
     "cell_type": "heading",
     "level": 1,
     "metadata": {},
     "source": [
      "PANAMA"
     ]
    },
    {
     "cell_type": "code",
     "collapsed": false,
     "input": [],
     "language": "python",
     "metadata": {},
     "outputs": []
    }
   ],
   "metadata": {}
  }
 ]
}