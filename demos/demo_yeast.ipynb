{
 "metadata": {
  "name": "",
  "signature": "sha256:2cef222f55f696771b0a192f62b71240d561c09e08532d0fd4e105079cb4fcb5"
 },
 "nbformat": 3,
 "nbformat_minor": 0,
 "worksheets": [
  {
   "cells": [
    {
     "cell_type": "heading",
     "level": 1,
     "metadata": {},
     "source": [
      "LIMIX"
     ]
    },
    {
     "cell_type": "markdown",
     "metadata": {},
     "source": [
      "In this demo we show how to use LIMIX to perform different genetic anlysis.\n",
      "We start discussing standard GWAS, multi locus models\n",
      "and variance decomposition models for single trait analysis for then\n",
      "extending those for multi trait analysis.\n",
      "We show how the prediction tool made availavble by LIMIX\n",
      "can be used to monitor overfitting and perform model selection.\n",
      "Finally, we show how to infer hidden confounders from high-dimensional phenotype data as in PANAMA\n",
      "and introduce those in the genetic model both in single trait and multi trait analysis."
     ]
    },
    {
     "cell_type": "heading",
     "level": 2,
     "metadata": {},
     "source": [
      "Data"
     ]
    },
    {
     "cell_type": "markdown",
     "metadata": {},
     "source": [
      "To showcase this, we consider a yeast dataset (Smith et al, 2008, PLoS Biology)\n",
      "consisting of 109 individuals with 2,956 marker SNPs and expression levels for 5,493 in glucose and ethanol growth media respectively. For these analysis, we focus on a subset of the 11 genes in the Lysine Biosynthesis KEEG pathway considered in the paper."
     ]
    },
    {
     "cell_type": "heading",
     "level": 2,
     "metadata": {},
     "source": [
      "Setting up"
     ]
    },
    {
     "cell_type": "code",
     "collapsed": false,
     "input": [
      "%matplotlib inline"
     ],
     "language": "python",
     "metadata": {},
     "outputs": [],
     "prompt_number": 1
    },
    {
     "cell_type": "code",
     "collapsed": false,
     "input": [
      "import scipy as SP\n",
      "import pylab as PL\n",
      "from matplotlib import cm\n",
      "import h5py"
     ],
     "language": "python",
     "metadata": {},
     "outputs": [],
     "prompt_number": 2
    },
    {
     "cell_type": "code",
     "collapsed": false,
     "input": [
      "# import limix\n",
      "import sys\n",
      "sys.path.append('./../build/release.darwin/interfaces/python')\n",
      "import limix.modules.varianceDecomposition as VAR\n",
      "import limix.modules.data as DATA"
     ],
     "language": "python",
     "metadata": {},
     "outputs": [],
     "prompt_number": 3
    },
    {
     "cell_type": "code",
     "collapsed": false,
     "input": [
      "#genes from lysine biosynthesis pathway\n",
      "geneID = SP.array(['YIL094C', 'YDL182W', 'YDL131W', 'YER052C', 'YBR115C', 'YDR158W',\n",
      "                   'YNR050C', 'YJR139C', 'YIR034C', 'YGL202W', 'YDR234W'])\n",
      "#import data\n",
      "fname = './data/smith_2008/smith08.hdf5'\n",
      "data = DATA.QTLData(fname)\n",
      "#getting full pheno matrix\n",
      "Y = data.getPhenotypes(center=False,impute=False)[0]\n",
      "#build full kinship\n",
      "X = data.getGenotypes()\n",
      "XX = SP.dot(X,X.T)\n",
      "#dimensions\n",
      "N = Y.shape[0]\n",
      "G = geneID.shape[0]"
     ],
     "language": "python",
     "metadata": {},
     "outputs": [],
     "prompt_number": 4
    },
    {
     "cell_type": "heading",
     "level": 2,
     "metadata": {},
     "source": [
      "Single Trait Analysis"
     ]
    },
    {
     "cell_type": "heading",
     "level": 3,
     "metadata": {},
     "source": [
      "Standard GWAS"
     ]
    },
    {
     "cell_type": "heading",
     "level": 3,
     "metadata": {},
     "source": [
      "Multi locus Single Trait Model"
     ]
    },
    {
     "cell_type": "heading",
     "level": 2,
     "metadata": {},
     "source": [
      "Multi Trait Analysis"
     ]
    },
    {
     "cell_type": "heading",
     "level": 2,
     "metadata": {},
     "source": [
      "Introduction"
     ]
    },
    {
     "cell_type": "heading",
     "level": 2,
     "metadata": {},
     "source": [
      "Variance decomposition in yeast"
     ]
    },
    {
     "cell_type": "markdown",
     "metadata": {},
     "source": [
      "In this demo we show how to use LIMIX to perform analysis of phenotypic variance for molecular traits.\n",
      "As example, we consider the model used in the paper to dissect the phenotypic variability across cis and trans genetic effects as well as across persistent and GxE effects.\n",
      "\n",
      "The gene-model considered here is optimized on genes on chromosome 1 and then variance components are averaged across different sets of genes."
     ]
    },
    {
     "cell_type": "heading",
     "level": 3,
     "metadata": {},
     "source": [
      "Per-gene Variance Decomposition Model"
     ]
    },
    {
     "cell_type": "markdown",
     "metadata": {},
     "source": [
      "Indicating with $N$ and $E=2$ respectively the number of samples and the number of environments,\n",
      "we considered for each gene a model consisting of\n",
      "a trait-specific intercept term,\n",
      "a random effect for cis genetic effects,\n",
      "a random effect for trans genetic effects,\n",
      "and a noise random effect term.\n",
      "\n",
      "The model can be written\n",
      "\\begin{equation}\n",
      "\\mathbf{Y}=\\mathbf{FWA}+\\mathbf{U}^\\text{(cis)}+\\mathbf{U}^\\text{(trans)}+\\boldsymbol{\\Psi},\\;\\;\\;\\;\\;\n",
      "\\mathbf{U}^\\text{(cis)}\\sim\\text{MVN}(\\mathbf{0},\\mathbf{K}^\\text{(cis)},\\mathbf{C}^\\text{(cis)}),\\;\n",
      "\\mathbf{U}^\\text{(trans)}\\sim\\text{MVN}(\\mathbf{0},\\mathbf{K}^\\text{(trans)},\\mathbf{C}^\\text{(trans)}),\\;\n",
      "\\boldsymbol{\\Psi}\\sim\\text{MVN}(\\mathbf{0},\\mathbf{I}_N,\\mathbf{C}_n),\n",
      "\\end{equation}\n",
      "where\n",
      "\\begin{eqnarray}\n",
      "\\mathbf{Y}   &=& \\text{matrix-variate phenotype} \\in \\mathcal{R}^{N,E} \\\\\n",
      "\\mathbf{F}   &=& \\mathbf{1}_{N,1} \\\\\n",
      "\\mathbf{W}   &=& \\text{trait-specific intercepts} \\in \\mathcal{R}^{1,E} \\\\\n",
      "\\mathbf{A}   &=& \\mathbf{I}_{E} \\\\\n",
      "\\mathbf{C}^{(x)} &=& \\text{$x$ trait covariance matrix} \\in \\mathcal{R}^{E,E} \\\\\n",
      "\\mathbf{K}^\\text{(cis)} &=& \\text{local kinship built considering all SNPs in cis} \\in \\mathcal{R}^{N,N} \\\\\n",
      "\\mathbf{K}^\\text{(trans)} &=& \\text{distal kinship built considering all SNPs not in cis} \\in \\mathcal{R}^{N,N} \\\\\n",
      "\\end{eqnarray}\n",
      "A SNP was defined 'in cis' when it is in a window of 500kb downstream and upstream the gene.\n",
      "\n",
      "To dissect persistent and specific variance compoents we considered a 'block+diagonal' form for $C^{(x)}$:\n",
      "\\begin{equation}\n",
      "C^{(x)} =\n",
      "{a^{(x)}}^2\n",
      "\\left[\n",
      "\\begin{array}{cc}\n",
      "1 & 1\\\\\n",
      "1 & 1\n",
      "\\end{array}\n",
      "\\right]\n",
      "+\n",
      "\\left[\n",
      "\\begin{array}{cc}\n",
      "{c^{(x)}_1}^2 & 0\\\\\n",
      "0 & {c^{(x)}_2}^2\n",
      "\\end{array}\n",
      "\\right]\n",
      "\\end{equation}\n",
      "Variance of persistent and specific (GxE) effects from term $x$ are simply ${a^{(x)}}^2$ and $\\frac{1}{2}\\left({c_1^{(x)}}^2+{c_2^{(x)}}^2\\right)$ while the variance explained by pure environmental shift can be calculated as $\\text{var}\\left(W\\right)$."
     ]
    },
    {
     "cell_type": "heading",
     "level": 3,
     "metadata": {},
     "source": [
      "GxE Variance Decomposition Experiment"
     ]
    },
    {
     "cell_type": "code",
     "collapsed": false,
     "input": [
      "var = []\n",
      "\n",
      "for g in range(G):\n",
      "    \n",
      "    print '.. fit gene %d' % g\n",
      "    \n",
      "    #selecting gene\n",
      "    I = data.geneID==geneID[g]\n",
      "    y = Y[:,I]\n",
      "    y /= y.std()\n",
      "\n",
      "    #build kinships\n",
      "    Icis = data.getIcis_geno(geneID[g],5e5)\n",
      "    if Icis.sum()==0:      continue\n",
      "    Xcis = X[:,Icis]\n",
      "    XXcis    = SP.dot(Xcis,Xcis.T)\n",
      "    XXtrans  = XX-XXcis\n",
      "    XXcis   /= XXcis.diagonal().mean()\n",
      "    XXtrans /= XXtrans.diagonal().mean()\n",
      "\n",
      "    # variance component model\n",
      "    vc = VAR.CVarianceDecomposition(y)\n",
      "    vc.addFixedEffect()\n",
      "    vc.addRandomEffect(K=XXcis,covar_type='block_diag')\n",
      "    vc.addRandomEffect(K=XXtrans,covar_type='block_diag')\n",
      "    vc.addRandomEffect(is_noise=True,covar_type='block_diag')\n",
      "    vc.findLocalOptimum()\n",
      "    \n",
      "    # get variance components\n",
      "    _var = []\n",
      "    _var.append(vc.getFixed().var())\n",
      "    _var.append(vc.getScales(0)[0]**2)\n",
      "    _var.append((vc.getScales(0)[1:3]**2).mean())\n",
      "    _var.append(vc.getScales(1)[0]**2)\n",
      "    _var.append((vc.getScales(1)[1:3]**2).mean())\n",
      "    _var.append(vc.getEstTraitCovar(2).diagonal().mean())\n",
      "    var.append(_var)\n",
      "    \n",
      "var = SP.array(var)"
     ],
     "language": "python",
     "metadata": {},
     "outputs": [
      {
       "output_type": "stream",
       "stream": "stdout",
       "text": [
        ".. fit gene 0\n",
        "Local minimum found at iteration 0"
       ]
      },
      {
       "output_type": "stream",
       "stream": "stdout",
       "text": [
        "\n",
        ".. fit gene 1\n",
        "Local minimum found at iteration 0"
       ]
      },
      {
       "output_type": "stream",
       "stream": "stdout",
       "text": [
        "\n",
        ".. fit gene 2\n",
        "Local minimum found at iteration 0"
       ]
      },
      {
       "output_type": "stream",
       "stream": "stdout",
       "text": [
        "\n",
        ".. fit gene 3\n",
        "Local minimum found at iteration 0"
       ]
      },
      {
       "output_type": "stream",
       "stream": "stdout",
       "text": [
        "\n",
        ".. fit gene 4\n",
        "Local minimum found at iteration 0"
       ]
      },
      {
       "output_type": "stream",
       "stream": "stdout",
       "text": [
        "\n",
        ".. fit gene 5\n",
        "Local minimum found at iteration 0"
       ]
      },
      {
       "output_type": "stream",
       "stream": "stdout",
       "text": [
        "\n",
        ".. fit gene 6\n",
        "Local minimum found at iteration 0"
       ]
      },
      {
       "output_type": "stream",
       "stream": "stdout",
       "text": [
        "\n",
        ".. fit gene 7\n",
        "Local minimum found at iteration 0"
       ]
      },
      {
       "output_type": "stream",
       "stream": "stdout",
       "text": [
        "\n",
        ".. fit gene 8\n",
        "Local minimum found at iteration 0"
       ]
      },
      {
       "output_type": "stream",
       "stream": "stdout",
       "text": [
        "\n",
        ".. fit gene 9\n",
        "Local minimum found at iteration 0"
       ]
      },
      {
       "output_type": "stream",
       "stream": "stdout",
       "text": [
        "\n",
        ".. fit gene 10\n",
        "Local minimum found at iteration 0"
       ]
      },
      {
       "output_type": "stream",
       "stream": "stdout",
       "text": [
        "\n"
       ]
      }
     ],
     "prompt_number": 5
    },
    {
     "cell_type": "heading",
     "level": 3,
     "metadata": {},
     "source": [
      "Averaging and plotting variance components"
     ]
    },
    {
     "cell_type": "code",
     "collapsed": false,
     "input": [
      "#normalize variance component and average\n",
      "var/=var.sum(1)[:,SP.newaxis]\n",
      "var_mean = var.mean(0)"
     ],
     "language": "python",
     "metadata": {},
     "outputs": [],
     "prompt_number": 8
    },
    {
     "cell_type": "code",
     "collapsed": false,
     "input": [
      "labels = ['env','cis','cisGxE','trans','transGxE','noise']\n",
      "colors = ['Gold','DarkGreen','YellowGreen','DarkBlue','RoyalBlue','Gray']\n",
      "PL.pie(var_mean,labels=labels,autopct='%1.1f%%',colors=colors,shadow=True, startangle=0)"
     ],
     "language": "python",
     "metadata": {},
     "outputs": [
      {
       "metadata": {},
       "output_type": "pyout",
       "prompt_number": 9,
       "text": [
        "([<matplotlib.patches.Wedge at 0x10c7b7050>,\n",
        "  <matplotlib.patches.Wedge at 0x10c7b75d0>,\n",
        "  <matplotlib.patches.Wedge at 0x10c7b7b10>,\n",
        "  <matplotlib.patches.Wedge at 0x10c7bd090>,\n",
        "  <matplotlib.patches.Wedge at 0x10c7bd5d0>,\n",
        "  <matplotlib.patches.Wedge at 0x10c7bdb10>],\n",
        " [<matplotlib.text.Text at 0x10c7b7490>,\n",
        "  <matplotlib.text.Text at 0x10c7b79d0>,\n",
        "  <matplotlib.text.Text at 0x10c7b7f10>,\n",
        "  <matplotlib.text.Text at 0x10c7bd490>,\n",
        "  <matplotlib.text.Text at 0x10c7bd9d0>,\n",
        "  <matplotlib.text.Text at 0x10c7bdf10>],\n",
        " [<matplotlib.text.Text at 0x10c7b74d0>,\n",
        "  <matplotlib.text.Text at 0x10c7b7a10>,\n",
        "  <matplotlib.text.Text at 0x10c7b7f90>,\n",
        "  <matplotlib.text.Text at 0x10c7bd4d0>,\n",
        "  <matplotlib.text.Text at 0x10c7bda10>,\n",
        "  <matplotlib.text.Text at 0x10c7bdf90>])"
       ]
      },
      {
       "metadata": {},
       "output_type": "display_data",
       "png": "[encoded data removed]",
       "text": [
        "<matplotlib.figure.Figure at 0x111409a10>"
       ]
      }
     ],
     "prompt_number": 9
    },
    {
     "cell_type": "heading",
     "level": 2,
     "metadata": {},
     "source": [
      "Multi Trait GWAS"
     ]
    },
    {
     "cell_type": "markdown",
     "metadata": {},
     "source": [
      "Indicating with $N$ and $P$ respectively the number of samples and the number of traits,\n",
      "the genetic model considered by LIMIX for multivariate GWAS consists of\n",
      "a fixed effect for the model intercept,\n",
      "a fixed effect for the SNP being tested,\n",
      "a random effect for the polygenic effect\n",
      "and a noisy random effect term.\n",
      "Each fixed effect is characterized by a sample and a trait design matrix and the weights,\n",
      "while each random effect is characterized by a sample and a trait covariance matrix.\n",
      "\n",
      "The model can be written\n",
      "\\begin{equation}\n",
      "\\mathbf{Y}=\\mathbf{FWA}^\\text{(cov)}+\\mathbf{XBA}_1^\\text{(snp)}+\\mathbf{G}+\\boldsymbol{\\Psi},\\;\\;\\;\\;\\;\n",
      "\\mathbf{G}\\sim\\text{MVN}(\\mathbf{0},\\mathbf{K},\\mathbf{C}_g),\\;\n",
      "\\boldsymbol{\\Psi}\\sim\\text{MVN}(\\mathbf{0},\\mathbf{I}_N,\\mathbf{C}_n),\n",
      "\\end{equation}\n",
      "where\n",
      "\\begin{eqnarray}\n",
      "\\mathbf{Y}   &=& \\text{matrix-variate phenotype} \\in \\mathcal{R}^{N,P} \\\\\n",
      "\\mathbf{F}   &=& \\text{sample design for covariates} \\in \\mathcal{R}^{N,K} \\\\\n",
      "\\mathbf{W}   &=& \\text{effect size matrix for covariates} \\in \\mathcal{R}^{K,L} \\\\\n",
      "\\mathbf{A}^\\text{(cov)} &=& \\text{trait design for the fixed effect} \\in \\mathcal{R}^{L,P} \\\\\n",
      "\\mathbf{X}   &=& \\text{genetic profile of the SNP} \\in \\mathcal{R}^{N,1} \\\\\n",
      "\\mathbf{B}   &=& \\text{effect sizes of the SNP} \\in \\mathcal{R}^{1,M} \\\\\n",
      "\\mathbf{A}_1^\\text{(snp)} &=& \\text{trait design for the fixed effect} \\in \\mathcal{R}^{M,P} \\\\\n",
      "\\mathbf{K}   &=& \\text{sample relatedeness matrix} \\in \\mathcal{R}^{N,N} \\\\\n",
      "\\mathbf{C}_g &=& \\text{genetic trait covariance matrix} \\in \\mathcal{R}^{P,P} \\\\\n",
      "\\mathbf{I}_N &=& \\text{sample noise matrix} \\in \\mathcal{R}^{N,N} \\\\\n",
      "\\mathbf{C}_n &=& \\text{noise trait covariance matrix} \\in \\mathcal{R}^{P,P}\n",
      "\\end{eqnarray}\n",
      "\n",
      "In the following, we consider only a trait-specific intercept as covariate,\n",
      "which is caracterized by $\\mathbf{F}=\\mathbf{1}_{N,1}$, $\\mathbf{A}=\\mathbf{I}_{P}$ and $\\mathbf{W} \\in \\mathcal{R}^{1,P}$.\n",
      "\n",
      "LIMIX tests for $\\mathbf{A}_1^\\text{(snp)}\\neq\\mathbf{A}_0^\\text{(snp)}$.\n",
      "As shown extensively below, specifying opportunately $\\mathbf{A}_1^\\text{(snp)}$ and $\\mathbf{A}_0^\\text{(snp)}$\n",
      "different genetic hypothesis can be tested.\n",
      "\n",
      "As shown below, LIMIX learns the trait covariance matrices on the mixed model without the fixed effect from the SNP."
     ]
    },
    {
     "cell_type": "heading",
     "level": 3,
     "metadata": {},
     "source": [
      "Any effect test"
     ]
    },
    {
     "cell_type": "heading",
     "level": 3,
     "metadata": {},
     "source": [
      "Common and Specifc effet test"
     ]
    },
    {
     "cell_type": "heading",
     "level": 3,
     "metadata": {},
     "source": [
      "Multi trait Multi locus"
     ]
    },
    {
     "cell_type": "heading",
     "level": 2,
     "metadata": {},
     "source": [
      "Predictions and Model Selection"
     ]
    },
    {
     "cell_type": "code",
     "collapsed": false,
     "input": [],
     "language": "python",
     "metadata": {},
     "outputs": []
    }
   ],
   "metadata": {}
  }
 ]
}