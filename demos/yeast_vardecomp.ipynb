{
 "metadata": {
  "name": "",
  "signature": "sha256:c5a7e5594ef32b7b2328d926f92fafb9d448b268784db61d76ebfde0f5ed86f9"
 },
 "nbformat": 3,
 "nbformat_minor": 0,
 "worksheets": [
  {
   "cells": [
    {
     "cell_type": "heading",
     "level": 1,
     "metadata": {},
     "source": [
      "Variance decomposition in yeast"
     ]
    },
    {
     "cell_type": "markdown",
     "metadata": {},
     "source": [
      "In this demo we show how to use LIMIX to perform analysis of phenotypic variance for molecular traits.\n",
      "As example, we consider the model used in the paper to dissect the phenotypic variability across cis and trans genetic effects as well as across persistent and GxE effects.\n",
      "\n",
      "The gene-model considered here is optimized on genes on chromosome 1 and then variance components are averaged across different sets of genes."
     ]
    },
    {
     "cell_type": "heading",
     "level": 3,
     "metadata": {},
     "source": [
      "Per-gene Variance Decomposition Model"
     ]
    },
    {
     "cell_type": "markdown",
     "metadata": {},
     "source": [
      "Indicating with $N$ and $E=2$ respectively the number of samples and the number of environments,\n",
      "we considered for each gene a model consisting of\n",
      "a trait-specific intercept term,\n",
      "a random effect for cis genetic effects,\n",
      "a random effect for trans genetic effects,\n",
      "and a noise random effect term.\n",
      "\n",
      "The model can be written\n",
      "\\begin{equation}\n",
      "\\mathbf{Y}=\\mathbf{FWA}+\\mathbf{U}^\\text{(cis)}+\\mathbf{U}^\\text{(trans)}+\\boldsymbol{\\Psi},\\;\\;\\;\\;\\;\n",
      "\\mathbf{U}^\\text{(cis)}\\sim\\text{MVN}(\\mathbf{0},\\mathbf{K}^\\text{(cis)},\\mathbf{C}^\\text{(cis)}),\\;\n",
      "\\mathbf{U}^\\text{(trans)}\\sim\\text{MVN}(\\mathbf{0},\\mathbf{K}^\\text{(trans)},\\mathbf{C}^\\text{(trans)}),\\;\n",
      "\\boldsymbol{\\Psi}\\sim\\text{MVN}(\\mathbf{0},\\mathbf{I}_N,\\mathbf{C}_n),\n",
      "\\end{equation}\n",
      "where\n",
      "\\begin{eqnarray}\n",
      "\\mathbf{Y}   &=& \\text{matrix-variate phenotype} \\in \\mathcal{R}^{N,E} \\\\\n",
      "\\mathbf{F}   &=& \\mathbf{1}_{N,1} \\\\\n",
      "\\mathbf{W}   &=& \\text{trait-specific intercepts} \\in \\mathcal{R}^{1,E} \\\\\n",
      "\\mathbf{A}   &=& \\mathbf{I}_{E} \\\\\n",
      "\\mathbf{C}^{(x)} &=& \\text{$x$ trait covariance matrix} \\in \\mathcal{R}^{E,E} \\\\\n",
      "\\mathbf{K}^\\text{(cis)} &=& \\text{local kinship built considering all SNPs in cis} \\in \\mathcal{R}^{N,N} \\\\\n",
      "\\mathbf{K}^\\text{(trans)} &=& \\text{distal kinship built considering all SNPs not in cis} \\in \\mathcal{R}^{N,N} \\\\\n",
      "\\end{eqnarray}\n",
      "A SNP was defined 'in cis' when it is in a window of 500kb downstream and upstream the gene.\n",
      "\n",
      "To dissect persistent and specific variance compoents we considered a 'block+diagonal' form for $C^{(x)}$:\n",
      "\\begin{equation}\n",
      "C^{(x)} =\n",
      "{a^{(x)}}^2\n",
      "\\left[\n",
      "\\begin{array}{cc}\n",
      "1 & 1\\\\\n",
      "1 & 1\n",
      "\\end{array}\n",
      "\\right]\n",
      "+\n",
      "\\left[\n",
      "\\begin{array}{cc}\n",
      "{c^{(x)}_1}^2 & 0\\\\\n",
      "0 & {c^{(x)}_2}^2\n",
      "\\end{array}\n",
      "\\right]\n",
      "\\end{equation}\n",
      "Variance of persistent and specific (GxE) effects from term $x$ are simply ${a^{(x)}}^2$ and $\\frac{1}{2}\\left({c_1^{(x)}}^2+{c_2^{(x)}}^2\\right)$ while the variance explained by pure environmental shift can be calculated as $\\text{var}\\left(W\\right)$."
     ]
    },
    {
     "cell_type": "heading",
     "level": 3,
     "metadata": {},
     "source": [
      "Setting up"
     ]
    },
    {
     "cell_type": "code",
     "collapsed": false,
     "input": [
      "%matplotlib inline"
     ],
     "language": "python",
     "metadata": {},
     "outputs": [],
     "prompt_number": 1
    },
    {
     "cell_type": "code",
     "collapsed": false,
     "input": [
      "import scipy as SP\n",
      "import pylab as PL\n",
      "from matplotlib import cm\n",
      "import h5py"
     ],
     "language": "python",
     "metadata": {},
     "outputs": [],
     "prompt_number": 2
    },
    {
     "cell_type": "code",
     "collapsed": false,
     "input": [
      "# import limix\n",
      "import sys\n",
      "sys.path.append('./../build/release.darwin/interfaces/python')\n",
      "import limix.modules.varianceDecomposition as VAR\n",
      "import limix.modules.data as DATA"
     ],
     "language": "python",
     "metadata": {},
     "outputs": [],
     "prompt_number": 5
    },
    {
     "cell_type": "code",
     "collapsed": false,
     "input": [
      "#import data\n",
      "fname = './data/smith_2008/smith08.hdf5'\n",
      "data = DATA.QTLData(fname)\n",
      "#getting full pheno matrix\n",
      "Y = data.getPhenotypes(center=False,impute=False)[0]\n",
      "#build full kinship\n",
      "X = data.getGenotypes()\n",
      "XX = SP.dot(X,X.T)\n",
      "#selecting genes on chromosome 1\n",
      "I = data.f['phenotype']['col_header']['gene_chrom'][:]=='1'\n",
      "I *= data.f['phenotype']['col_header']['environment'][:]==0\n",
      "geneID = data.f['phenotype']['col_header']['gene_ID'][I]\n",
      "#dimensions\n",
      "N = Y.shape[0]\n",
      "G = geneID.shape[0]"
     ],
     "language": "python",
     "metadata": {},
     "outputs": [],
     "prompt_number": 6
    },
    {
     "cell_type": "heading",
     "level": 3,
     "metadata": {},
     "source": [
      "Optimizing the model on genes on chrom1"
     ]
    },
    {
     "cell_type": "code",
     "collapsed": false,
     "input": [
      "var = []\n",
      "\n",
      "for g in range(G):\n",
      "    \n",
      "    print '.. fit gene %d' % g\n",
      "    \n",
      "    #selecting gene\n",
      "    I = data.geneID==geneID[g]\n",
      "    y = Y[:,I]\n",
      "    y /= y.std()\n",
      "\n",
      "    #build kinships\n",
      "    Icis = data.getIcis_geno(geneID[g],5e5)\n",
      "    if Icis.sum()==0:      continue\n",
      "    Xcis = X[:,Icis]\n",
      "    XXcis    = SP.dot(Xcis,Xcis.T)\n",
      "    XXtrans  = XX-XXcis\n",
      "    XXcis   /= XXcis.diagonal().mean()\n",
      "    XXtrans /= XXtrans.diagonal().mean()\n",
      "\n",
      "    # variance component model\n",
      "    vc = VAR.CVarianceDecomposition(y)\n",
      "    vc.addFixedEffect()\n",
      "    vc.addRandomEffect(K=XXcis,covar_type='block_diag')\n",
      "    vc.addRandomEffect(K=XXtrans,covar_type='block_diag')\n",
      "    vc.addRandomEffect(is_noise=True,covar_type='block_diag')\n",
      "    vc.findLocalOptimum()\n",
      "    \n",
      "    # get variance components\n",
      "    _var = []\n",
      "    _var.append(vc.getFixed().var())\n",
      "    _var.append(vc.getScales(0)[0]**2)\n",
      "    _var.append((vc.getScales(0)[1:3]**2).mean())\n",
      "    _var.append(vc.getScales(1)[0]**2)\n",
      "    _var.append((vc.getScales(1)[1:3]**2).mean())\n",
      "    _var.append(vc.getEstTraitCovar(2).diagonal().mean())\n",
      "    var.append(_var)\n",
      "    \n",
      "var = SP.array(var)"
     ],
     "language": "python",
     "metadata": {},
     "outputs": [
      {
       "output_type": "stream",
       "stream": "stdout",
       "text": [
        ".. fit gene 0\n",
        "Local minimum found at iteration 0"
       ]
      },
      {
       "output_type": "stream",
       "stream": "stdout",
       "text": [
        "\n",
        ".. fit gene 1\n",
        "Local minimum found at iteration 0"
       ]
      },
      {
       "output_type": "stream",
       "stream": "stdout",
       "text": [
        "\n",
        ".. fit gene 2\n",
        "Local minimum found at iteration 0"
       ]
      },
      {
       "output_type": "stream",
       "stream": "stdout",
       "text": [
        "\n",
        ".. fit gene 3\n",
        "Local minimum found at iteration 0"
       ]
      },
      {
       "output_type": "stream",
       "stream": "stdout",
       "text": [
        "\n",
        ".. fit gene 4\n",
        "Local minimum found at iteration 0"
       ]
      },
      {
       "output_type": "stream",
       "stream": "stdout",
       "text": [
        "\n",
        ".. fit gene 5\n",
        "Local minimum found at iteration 0"
       ]
      },
      {
       "output_type": "stream",
       "stream": "stdout",
       "text": [
        "\n",
        ".. fit gene 6\n",
        "Local minimum found at iteration 0"
       ]
      },
      {
       "output_type": "stream",
       "stream": "stdout",
       "text": [
        "\n",
        ".. fit gene 7\n",
        "Local minimum found at iteration 0"
       ]
      },
      {
       "output_type": "stream",
       "stream": "stdout",
       "text": [
        "\n",
        ".. fit gene 8\n",
        "Local minimum found at iteration 0"
       ]
      },
      {
       "output_type": "stream",
       "stream": "stdout",
       "text": [
        "\n",
        ".. fit gene 9\n",
        "Local minimum found at iteration 0"
       ]
      },
      {
       "output_type": "stream",
       "stream": "stdout",
       "text": [
        "\n",
        ".. fit gene 10\n",
        "Local minimum found at iteration 0"
       ]
      },
      {
       "output_type": "stream",
       "stream": "stdout",
       "text": [
        "\n",
        ".. fit gene 11\n",
        "Local minimum found at iteration 0"
       ]
      },
      {
       "output_type": "stream",
       "stream": "stdout",
       "text": [
        "\n",
        ".. fit gene 12\n",
        "Local minimum found at iteration 0"
       ]
      },
      {
       "output_type": "stream",
       "stream": "stdout",
       "text": [
        "\n",
        ".. fit gene 13\n",
        "Local minimum found at iteration 0"
       ]
      },
      {
       "output_type": "stream",
       "stream": "stdout",
       "text": [
        "\n",
        ".. fit gene 14\n",
        "Local minimum found at iteration 0"
       ]
      },
      {
       "output_type": "stream",
       "stream": "stdout",
       "text": [
        "\n",
        ".. fit gene 15\n",
        "Local minimum found at iteration 0"
       ]
      },
      {
       "output_type": "stream",
       "stream": "stdout",
       "text": [
        "\n",
        ".. fit gene 16\n",
        "Local minimum found at iteration 1"
       ]
      },
      {
       "output_type": "stream",
       "stream": "stdout",
       "text": [
        "\n",
        ".. fit gene 17\n",
        "Local minimum found at iteration 0"
       ]
      },
      {
       "output_type": "stream",
       "stream": "stdout",
       "text": [
        "\n",
        ".. fit gene 18\n",
        "Local minimum found at iteration 0"
       ]
      },
      {
       "output_type": "stream",
       "stream": "stdout",
       "text": [
        "\n",
        ".. fit gene 19\n",
        "Local minimum found at iteration 0"
       ]
      },
      {
       "output_type": "stream",
       "stream": "stdout",
       "text": [
        "\n",
        ".. fit gene 20\n",
        "Local minimum found at iteration 0"
       ]
      },
      {
       "output_type": "stream",
       "stream": "stdout",
       "text": [
        "\n",
        ".. fit gene 21\n",
        "Local minimum found at iteration 0"
       ]
      },
      {
       "output_type": "stream",
       "stream": "stdout",
       "text": [
        "\n",
        ".. fit gene 22\n",
        "Local minimum found at iteration 0"
       ]
      },
      {
       "output_type": "stream",
       "stream": "stdout",
       "text": [
        "\n",
        ".. fit gene 23\n",
        "Local minimum found at iteration 0"
       ]
      },
      {
       "output_type": "stream",
       "stream": "stdout",
       "text": [
        "\n",
        ".. fit gene 24\n",
        "Local minimum found at iteration 0"
       ]
      },
      {
       "output_type": "stream",
       "stream": "stdout",
       "text": [
        "\n",
        ".. fit gene 25\n",
        "Local minimum found at iteration 0"
       ]
      },
      {
       "output_type": "stream",
       "stream": "stdout",
       "text": [
        "\n",
        ".. fit gene 26\n",
        "Local minimum found at iteration 0"
       ]
      },
      {
       "output_type": "stream",
       "stream": "stdout",
       "text": [
        "\n",
        ".. fit gene 27\n",
        "Local minimum found at iteration 0"
       ]
      },
      {
       "output_type": "stream",
       "stream": "stdout",
       "text": [
        "\n",
        ".. fit gene 28\n",
        "Local minimum found at iteration 0"
       ]
      },
      {
       "output_type": "stream",
       "stream": "stdout",
       "text": [
        "\n",
        ".. fit gene 29\n",
        "Local minimum found at iteration 0"
       ]
      },
      {
       "output_type": "stream",
       "stream": "stdout",
       "text": [
        "\n",
        ".. fit gene 30\n",
        "Local minimum found at iteration 0"
       ]
      },
      {
       "output_type": "stream",
       "stream": "stdout",
       "text": [
        "\n",
        ".. fit gene 31\n",
        "Local minimum found at iteration 0"
       ]
      },
      {
       "output_type": "stream",
       "stream": "stdout",
       "text": [
        "\n",
        ".. fit gene 32\n",
        "Local minimum found at iteration 0"
       ]
      },
      {
       "output_type": "stream",
       "stream": "stdout",
       "text": [
        "\n",
        ".. fit gene 33\n",
        "Local minimum found at iteration 0"
       ]
      },
      {
       "output_type": "stream",
       "stream": "stdout",
       "text": [
        "\n",
        ".. fit gene 34\n",
        "Local minimum found at iteration 0"
       ]
      },
      {
       "output_type": "stream",
       "stream": "stdout",
       "text": [
        "\n",
        ".. fit gene 35\n",
        "Local minimum found at iteration 0"
       ]
      },
      {
       "output_type": "stream",
       "stream": "stdout",
       "text": [
        "\n",
        ".. fit gene 36\n",
        "Local minimum found at iteration 0"
       ]
      },
      {
       "output_type": "stream",
       "stream": "stdout",
       "text": [
        "\n",
        ".. fit gene 37\n",
        "Local minimum found at iteration 0"
       ]
      },
      {
       "output_type": "stream",
       "stream": "stdout",
       "text": [
        "\n",
        ".. fit gene 38\n",
        "Local minimum found at iteration 0"
       ]
      },
      {
       "output_type": "stream",
       "stream": "stdout",
       "text": [
        "\n",
        ".. fit gene 39\n",
        "Local minimum found at iteration 0"
       ]
      },
      {
       "output_type": "stream",
       "stream": "stdout",
       "text": [
        "\n",
        ".. fit gene 40\n",
        "Local minimum found at iteration 0"
       ]
      },
      {
       "output_type": "stream",
       "stream": "stdout",
       "text": [
        "\n",
        ".. fit gene 41\n",
        "Local minimum found at iteration 0"
       ]
      },
      {
       "output_type": "stream",
       "stream": "stdout",
       "text": [
        "\n",
        ".. fit gene 42\n",
        "Local minimum found at iteration 0"
       ]
      },
      {
       "output_type": "stream",
       "stream": "stdout",
       "text": [
        "\n",
        ".. fit gene 43\n",
        "Local minimum found at iteration 0"
       ]
      },
      {
       "output_type": "stream",
       "stream": "stdout",
       "text": [
        "\n",
        ".. fit gene 44\n",
        "Local minimum found at iteration 0"
       ]
      },
      {
       "output_type": "stream",
       "stream": "stdout",
       "text": [
        "\n",
        ".. fit gene 45\n",
        "Local minimum found at iteration 0"
       ]
      },
      {
       "output_type": "stream",
       "stream": "stdout",
       "text": [
        "\n",
        ".. fit gene 46\n",
        "Local minimum found at iteration 0"
       ]
      },
      {
       "output_type": "stream",
       "stream": "stdout",
       "text": [
        "\n",
        ".. fit gene 47\n",
        "Local minimum found at iteration 0"
       ]
      },
      {
       "output_type": "stream",
       "stream": "stdout",
       "text": [
        "\n",
        ".. fit gene 48\n",
        "Local minimum found at iteration 0"
       ]
      },
      {
       "output_type": "stream",
       "stream": "stdout",
       "text": [
        "\n",
        ".. fit gene 49\n",
        "Local minimum found at iteration 0"
       ]
      },
      {
       "output_type": "stream",
       "stream": "stdout",
       "text": [
        "\n",
        ".. fit gene 50\n",
        "Local minimum found at iteration 0"
       ]
      },
      {
       "output_type": "stream",
       "stream": "stdout",
       "text": [
        "\n",
        ".. fit gene 51\n",
        "Local minimum found at iteration 0"
       ]
      },
      {
       "output_type": "stream",
       "stream": "stdout",
       "text": [
        "\n",
        ".. fit gene 52\n",
        "Local minimum found at iteration 0"
       ]
      },
      {
       "output_type": "stream",
       "stream": "stdout",
       "text": [
        "\n",
        ".. fit gene 53\n",
        "Local minimum found at iteration 0"
       ]
      },
      {
       "output_type": "stream",
       "stream": "stdout",
       "text": [
        "\n",
        ".. fit gene 54\n",
        "Local minimum found at iteration 1"
       ]
      },
      {
       "output_type": "stream",
       "stream": "stdout",
       "text": [
        "\n",
        ".. fit gene 55\n",
        "Local minimum found at iteration 0"
       ]
      },
      {
       "output_type": "stream",
       "stream": "stdout",
       "text": [
        "\n",
        ".. fit gene 56\n",
        "Local minimum found at iteration 0"
       ]
      },
      {
       "output_type": "stream",
       "stream": "stdout",
       "text": [
        "\n",
        ".. fit gene 57\n",
        "Local minimum found at iteration 0"
       ]
      },
      {
       "output_type": "stream",
       "stream": "stdout",
       "text": [
        "\n",
        ".. fit gene 58\n",
        "Local minimum found at iteration 0"
       ]
      },
      {
       "output_type": "stream",
       "stream": "stdout",
       "text": [
        "\n",
        ".. fit gene 59\n",
        "Local minimum found at iteration 0"
       ]
      },
      {
       "output_type": "stream",
       "stream": "stdout",
       "text": [
        "\n",
        ".. fit gene 60\n",
        "Local minimum found at iteration 0"
       ]
      },
      {
       "output_type": "stream",
       "stream": "stdout",
       "text": [
        "\n",
        ".. fit gene 61\n",
        "Local minimum found at iteration 0"
       ]
      },
      {
       "output_type": "stream",
       "stream": "stdout",
       "text": [
        "\n",
        ".. fit gene 62\n",
        "Local minimum found at iteration 0"
       ]
      },
      {
       "output_type": "stream",
       "stream": "stdout",
       "text": [
        "\n",
        ".. fit gene 63\n",
        "Local minimum found at iteration 0"
       ]
      },
      {
       "output_type": "stream",
       "stream": "stdout",
       "text": [
        "\n",
        ".. fit gene 64\n",
        "Local minimum found at iteration 0"
       ]
      },
      {
       "output_type": "stream",
       "stream": "stdout",
       "text": [
        "\n",
        ".. fit gene 65\n",
        "Local minimum found at iteration 0"
       ]
      },
      {
       "output_type": "stream",
       "stream": "stdout",
       "text": [
        "\n",
        ".. fit gene 66\n",
        "Local minimum found at iteration 0"
       ]
      },
      {
       "output_type": "stream",
       "stream": "stdout",
       "text": [
        "\n",
        ".. fit gene 67\n",
        "Local minimum found at iteration 0"
       ]
      },
      {
       "output_type": "stream",
       "stream": "stdout",
       "text": [
        "\n",
        ".. fit gene 68\n",
        "Local minimum found at iteration 0"
       ]
      },
      {
       "output_type": "stream",
       "stream": "stdout",
       "text": [
        "\n",
        ".. fit gene 69\n",
        "Local minimum found at iteration 0"
       ]
      },
      {
       "output_type": "stream",
       "stream": "stdout",
       "text": [
        "\n",
        ".. fit gene 70\n",
        "Local minimum found at iteration 0"
       ]
      },
      {
       "output_type": "stream",
       "stream": "stdout",
       "text": [
        "\n",
        ".. fit gene 71\n",
        "Local minimum found at iteration 0"
       ]
      },
      {
       "output_type": "stream",
       "stream": "stdout",
       "text": [
        "\n",
        ".. fit gene 72\n",
        "Local minimum found at iteration 0"
       ]
      },
      {
       "output_type": "stream",
       "stream": "stdout",
       "text": [
        "\n",
        ".. fit gene 73\n",
        "Local minimum found at iteration 0"
       ]
      },
      {
       "output_type": "stream",
       "stream": "stdout",
       "text": [
        "\n",
        ".. fit gene 74\n",
        "Local minimum found at iteration 0"
       ]
      },
      {
       "output_type": "stream",
       "stream": "stdout",
       "text": [
        "\n",
        ".. fit gene 75\n",
        "Local minimum found at iteration 0"
       ]
      },
      {
       "output_type": "stream",
       "stream": "stdout",
       "text": [
        "\n",
        ".. fit gene 76\n",
        "Local minimum found at iteration 0"
       ]
      },
      {
       "output_type": "stream",
       "stream": "stdout",
       "text": [
        "\n",
        ".. fit gene 77\n",
        "Local minimum found at iteration 0"
       ]
      },
      {
       "output_type": "stream",
       "stream": "stdout",
       "text": [
        "\n",
        ".. fit gene 78\n",
        "Local minimum found at iteration 0"
       ]
      },
      {
       "output_type": "stream",
       "stream": "stdout",
       "text": [
        "\n",
        ".. fit gene 79\n",
        "Local minimum found at iteration 0"
       ]
      },
      {
       "output_type": "stream",
       "stream": "stdout",
       "text": [
        "\n"
       ]
      }
     ],
     "prompt_number": 7
    },
    {
     "cell_type": "heading",
     "level": 3,
     "metadata": {},
     "source": [
      "Averaging and plotting variance components"
     ]
    },
    {
     "cell_type": "code",
     "collapsed": false,
     "input": [
      "#normalize variance component and average\n",
      "var/=var.sum(1)[:,SP.newaxis]\n",
      "var_mean = var[I,:].mean(0)"
     ],
     "language": "python",
     "metadata": {},
     "outputs": [],
     "prompt_number": 11
    },
    {
     "cell_type": "code",
     "collapsed": false,
     "input": [
      "labels = ['env','cis','cisGxE','trans','transGxE','noise']\n",
      "colors = ['Gold','DarkGreen','YellowGreen','DarkBlue','RoyalBlue','Gray']\n",
      "PL.pie(var_mean,labels=labels,autopct='%1.1f%%',colors=colors,shadow=True, startangle=0)"
     ],
     "language": "python",
     "metadata": {},
     "outputs": [
      {
       "metadata": {},
       "output_type": "pyout",
       "prompt_number": 12,
       "text": [
        "([<matplotlib.patches.Wedge at 0x109976b10>,\n",
        "  <matplotlib.patches.Wedge at 0x1099840d0>,\n",
        "  <matplotlib.patches.Wedge at 0x109984610>,\n",
        "  <matplotlib.patches.Wedge at 0x109984b50>,\n",
        "  <matplotlib.patches.Wedge at 0x10998e0d0>,\n",
        "  <matplotlib.patches.Wedge at 0x10998e610>],\n",
        " [<matplotlib.text.Text at 0x109976f50>,\n",
        "  <matplotlib.text.Text at 0x1099844d0>,\n",
        "  <matplotlib.text.Text at 0x109984a10>,\n",
        "  <matplotlib.text.Text at 0x109984f50>,\n",
        "  <matplotlib.text.Text at 0x10998e4d0>,\n",
        "  <matplotlib.text.Text at 0x10998ea10>],\n",
        " [<matplotlib.text.Text at 0x109976f90>,\n",
        "  <matplotlib.text.Text at 0x109984510>,\n",
        "  <matplotlib.text.Text at 0x109984a50>,\n",
        "  <matplotlib.text.Text at 0x109984f90>,\n",
        "  <matplotlib.text.Text at 0x10998e510>,\n",
        "  <matplotlib.text.Text at 0x10998ea50>])"
       ]
      },
      {
       "metadata": {},
       "output_type": "display_data",
       "png": "[encoded data removed]",
       "text": [
        "<matplotlib.figure.Figure at 0x109956250>"
       ]
      }
     ],
     "prompt_number": 12
    }
   ],
   "metadata": {}
  }
 ]
}